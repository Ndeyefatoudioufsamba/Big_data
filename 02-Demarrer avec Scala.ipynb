{
 "cells": [
  {
   "cell_type": "markdown",
   "id": "bc49fce2-41e9-4744-bcb3-0a9d48b0439d",
   "metadata": {},
   "source": [
    "# Programmation fonctionnelle avancée (Scala, Apache Spark)"
   ]
  },
  {
   "cell_type": "markdown",
   "id": "7ccc3f20-df3d-402b-8b37-83235ffbad11",
   "metadata": {},
   "source": [
    "**Auteur** : Djibril MBOUP   \n",
    "**Role** : Data Scientist à Atos Senegal  \n",
    "**E-mail** : mboupdjibril.m2itic@gmail.com - mboup.djibril@ugb.edu.sn \n",
    " "
   ]
  },
  {
   "cell_type": "markdown",
   "id": "30559015-77ec-436c-aad5-b839761da551",
   "metadata": {
    "slideshow": {
     "slide_type": "slide"
    }
   },
   "source": [
    "## Objectifs\n",
    "Dans ce cours nous allons :\n",
    "\n",
    "* Voir les bases de la programmation fonctionnelle en Scala,\n",
    "* Manipuler les concepts avancées de collections, classes, higher-order functions, pattern matching, mapReduce etc.\n",
    "* Developper des programmes paralleles avec Apache Spark pour le pré-traitement des données dans un cluster Hadoop\n",
    "* Chargement, Transformation des données avec Spark Dataframe, SQL et Datasets."
   ]
  },
  {
   "cell_type": "markdown",
   "id": "ad6e1b4b-617f-42f1-a0e0-b440e78990ef",
   "metadata": {},
   "source": [
    "## Le language Scala\n",
    "\n",
    "Scala combine la programmation orientée objet et fonctionnelle dans un langage concis et de haut niveau. Les types statiques de Scala aident à éviter les bogues dans les applications complexes, et ses runtimes JVM et JavaScript vous permettent de créer des systèmes hautes performances avec un accès facile à d'énormes écosystèmes de bibliothèques.\n"
   ]
  },
  {
   "cell_type": "markdown",
   "id": "3ded08a0-d8d3-4c6c-a867-76c7bdc5a942",
   "metadata": {},
   "source": [
    "## Scala REPL (Read-Eval-Print-Loop)\n",
    "\n",
    "Scala peut fonctionner comme une calculatrice en permettant de :\n",
    "\n",
    "* Lire une expression saisie dans le prompt, \n",
    "* Evaluer avec le compilateur Scala,\n",
    "* Afficher dans le prompt.\n",
    "* Attendre (en boucle) d'une nouvelle expression  \n",
    "\n",
    "Si Scala est installé dans votre système, vous pouvez demarrer scala dans votre terminal.\n",
    "\n"
   ]
  },
  {
   "cell_type": "markdown",
   "id": "4ebf34d7-cfcb-42d3-97e9-52c4c299db85",
   "metadata": {},
   "source": [
    "En tapant 1 + 2, vous invoquez en fait une méthode nommée + définie dans la classe **Int**, puisque Scala en un lagange pure OO"
   ]
  },
  {
   "cell_type": "code",
   "execution_count": 1,
   "id": "a271a731-9933-4657-a2fd-61decf1f1342",
   "metadata": {},
   "outputs": [
    {
     "data": {
      "text/plain": [
       "\u001b[36mres0\u001b[39m: \u001b[32mInt\u001b[39m = \u001b[32m3\u001b[39m"
      ]
     },
     "execution_count": 1,
     "metadata": {},
     "output_type": "execute_result"
    }
   ],
   "source": [
    "1 + 2"
   ]
  },
  {
   "cell_type": "code",
   "execution_count": 2,
   "id": "8637da5b-c9a1-46e0-bb52-ae48cdee0d98",
   "metadata": {},
   "outputs": [
    {
     "data": {
      "text/plain": [
       "\u001b[36mres1\u001b[39m: \u001b[32mInt\u001b[39m = \u001b[32m9\u001b[39m"
      ]
     },
     "execution_count": 2,
     "metadata": {},
     "output_type": "execute_result"
    }
   ],
   "source": [
    "res0 * 3"
   ]
  },
  {
   "cell_type": "code",
   "execution_count": 3,
   "id": "aa41fa76-e97b-4fe0-a33a-5c1c81d0d4a1",
   "metadata": {
    "tags": []
   },
   "outputs": [
    {
     "data": {
      "text/plain": [
       "\u001b[36mres2\u001b[39m: \u001b[32mInt\u001b[39m = \u001b[32m6\u001b[39m"
      ]
     },
     "execution_count": 3,
     "metadata": {},
     "output_type": "execute_result"
    }
   ],
   "source": [
    "(res1 - res0)"
   ]
  },
  {
   "cell_type": "code",
   "execution_count": 4,
   "id": "70f30858-b840-4ee4-94bc-0e429fe1c667",
   "metadata": {},
   "outputs": [
    {
     "name": "stdout",
     "output_type": "stream",
     "text": [
      "Hello, world!\n"
     ]
    }
   ],
   "source": [
    "println(\"Hello, world!\")"
   ]
  },
  {
   "cell_type": "markdown",
   "id": "1768410f-c141-4cdf-ac50-1e599b71b3f6",
   "metadata": {},
   "source": [
    "La sortie println passe la chaine de caractère à la sortie standard, similaire à System.out.println de Java."
   ]
  },
  {
   "cell_type": "markdown",
   "id": "85f6bcd1-f2b6-4a41-99b5-9149d97f6380",
   "metadata": {},
   "source": [
    "### Les variables  "
   ]
  },
  {
   "cell_type": "markdown",
   "id": "119b669a-b994-4660-83b7-2e2034072b2d",
   "metadata": {},
   "source": [
    "Scala a deux type de variables, **val** et **var**\n",
    "\n",
    "* **val** est similaire à une variable final dans Java. Une fois initialisée, la variable ne peut plus etre modifié.   \n",
    "* Quant à **var** , il permet de dèclarer une variable non-final variable comme dans Java. Une variable dèclarée avec **var** peut change de valeur durant sa durée de vie.\n"
   ]
  },
  {
   "cell_type": "code",
   "execution_count": 5,
   "id": "551be724-5248-42fb-aa9f-2d19d6988d3b",
   "metadata": {},
   "outputs": [
    {
     "data": {
      "text/plain": [
       "\u001b[36mmsg\u001b[39m: \u001b[32mString\u001b[39m = \u001b[32m\"Hello, world!\"\u001b[39m"
      ]
     },
     "execution_count": 5,
     "metadata": {},
     "output_type": "execute_result"
    }
   ],
   "source": [
    "val msg = \"Hello, world!\""
   ]
  },
  {
   "cell_type": "code",
   "execution_count": 6,
   "id": "16d228a1-64d9-433c-a573-8f851b9ff8a5",
   "metadata": {},
   "outputs": [
    {
     "data": {
      "text/plain": [
       "\u001b[36mmsg2\u001b[39m: \u001b[32mString\u001b[39m = \u001b[32m\"Hello again, world!\"\u001b[39m"
      ]
     },
     "execution_count": 6,
     "metadata": {},
     "output_type": "execute_result"
    }
   ],
   "source": [
    "val msg2: java.lang.String = \"Hello again, world!\""
   ]
  },
  {
   "cell_type": "code",
   "execution_count": null,
   "id": "99a29478-25d8-4f51-a04b-6f853c1c2bc5",
   "metadata": {},
   "outputs": [],
   "source": [
    "val msg3: String = \"Hello yet again, world!\""
   ]
  },
  {
   "cell_type": "code",
   "execution_count": 6,
   "id": "fb2a0e7b-a702-4356-93b3-b6e5e8bbb5a7",
   "metadata": {},
   "outputs": [
    {
     "name": "stderr",
     "output_type": "stream",
     "text": [
      "cmd6.sc:1: reassignment to val\n",
      "val res6 = msg = \"Goodbye cruel world!\"\n",
      "               ^Compilation Failed"
     ]
    },
    {
     "ename": "",
     "evalue": "",
     "output_type": "error",
     "traceback": [
      "Compilation Failed"
     ]
    }
   ],
   "source": [
    "msg = \"Goodbye cruel world!\""
   ]
  },
  {
   "cell_type": "code",
   "execution_count": 6,
   "id": "103a7d67-9c02-43ef-823a-ce0b0c1c8f94",
   "metadata": {},
   "outputs": [
    {
     "name": "stderr",
     "output_type": "stream",
     "text": [
      "cmd6.sc:1: not found: value msg4\n",
      "val res6 = msg4 = \"Variable failed due to the missing of val or var\"\n",
      "           ^Compilation Failed"
     ]
    },
    {
     "ename": "",
     "evalue": "",
     "output_type": "error",
     "traceback": [
      "Compilation Failed"
     ]
    }
   ],
   "source": [
    "msg4 = \"Variable failed due to the missing of val or var\""
   ]
  },
  {
   "cell_type": "code",
   "execution_count": 7,
   "id": "e2d544bb-b2e7-4fbd-8432-25484d75797e",
   "metadata": {},
   "outputs": [
    {
     "data": {
      "text/html": [
       "<div class=\"jp-RenderedText\">\n",
       "<pre><code><span style=\"color: rgb(0, 187, 187)\"><span class=\"ansi-cyan-fg\">greeting</span></span>: <span style=\"color: rgb(0, 187, 0)\"><span class=\"ansi-green-fg\">String</span></span> = <style>@keyframes fadein { from { opacity: 0; } to { opacity: 1; } }</style><span style=\"animation: fadein 2s;\"><span style=\"color: rgb(0, 187, 0)\"><span class=\"ansi-green-fg\">&quot;Leave me alone, world!&quot;</span></span></span></code></pre>\n",
       "</div>"
      ],
      "text/plain": [
       "\u001b[36mgreeting\u001b[39m: \u001b[32mString\u001b[39m = \u001b[32m\"Leave me alone, world!\"\u001b[39m"
      ]
     },
     "metadata": {},
     "output_type": "display_data"
    }
   ],
   "source": [
    "var greeting = \"Hello, world!\""
   ]
  },
  {
   "cell_type": "code",
   "execution_count": 8,
   "id": "8440d27c-22ce-4198-a975-b68f2a440b2b",
   "metadata": {},
   "outputs": [],
   "source": [
    "greeting = \"Leave me alone, world!\""
   ]
  },
  {
   "cell_type": "code",
   "execution_count": 9,
   "id": "24322394-8d43-4383-ae01-0ded33971a0f",
   "metadata": {
    "scrolled": true
   },
   "outputs": [
    {
     "name": "stdout",
     "output_type": "stream",
     "text": [
      "Leave me alone, world!\n"
     ]
    }
   ],
   "source": [
    "println(greeting)"
   ]
  },
  {
   "cell_type": "markdown",
   "id": "dd2cd32a-7ae3-4748-a20f-bca4f563fd5a",
   "metadata": {},
   "source": [
    "### Blocks"
   ]
  },
  {
   "cell_type": "code",
   "execution_count": 10,
   "id": "19bc12f4-555e-45df-9e27-fda0725c5f8e",
   "metadata": {
    "scrolled": true,
    "slideshow": {
     "slide_type": "subslide"
    }
   },
   "outputs": [
    {
     "name": "stdout",
     "output_type": "stream",
     "text": [
      "6\n"
     ]
    }
   ],
   "source": [
    "println({\n",
    "  val x = 1 + 2\n",
    "  x + 3\n",
    "})"
   ]
  },
  {
   "cell_type": "code",
   "execution_count": 11,
   "id": "78ce28d3-5e5b-4ac2-8882-ce9ae730442b",
   "metadata": {},
   "outputs": [
    {
     "data": {
      "text/plain": [
       "\u001b[36mbloc\u001b[39m: \u001b[32mInt\u001b[39m = \u001b[32m6\u001b[39m\n",
       "\u001b[36mres10_1\u001b[39m: \u001b[32mInt\u001b[39m = \u001b[32m6\u001b[39m"
      ]
     },
     "execution_count": 11,
     "metadata": {},
     "output_type": "execute_result"
    }
   ],
   "source": [
    "val bloc = {\n",
    "  val x = 1 + 2\n",
    "  x + 3\n",
    "}\n",
    "bloc"
   ]
  },
  {
   "cell_type": "markdown",
   "id": "067492cf-73c5-4885-9d8b-b5f0d21aa71d",
   "metadata": {},
   "source": [
    "### Controle Structures"
   ]
  },
  {
   "cell_type": "markdown",
   "id": "3176d9d0-6c41-4676-9648-6199bf109e43",
   "metadata": {},
   "source": [
    "### If expressions"
   ]
  },
  {
   "cell_type": "code",
   "execution_count": 12,
   "id": "1d6169cb-5714-4458-8c1c-71fb3b153a51",
   "metadata": {},
   "outputs": [
    {
     "name": "stdout",
     "output_type": "stream",
     "text": [
      "Pass"
     ]
    },
    {
     "data": {
      "text/plain": [
       "\u001b[36mnote\u001b[39m: \u001b[32mInt\u001b[39m = \u001b[32m10\u001b[39m"
      ]
     },
     "execution_count": 12,
     "metadata": {},
     "output_type": "execute_result"
    }
   ],
   "source": [
    "val note = 10\n",
    "\n",
    "if (note >= 10) \n",
    "    print(\"Pass\")\n",
    "else \n",
    "    print(\"Ajournée\")\n"
   ]
  },
  {
   "cell_type": "code",
   "execution_count": 13,
   "id": "6bc6efd9-8d46-44b5-96fa-5ed68a878fd2",
   "metadata": {},
   "outputs": [
    {
     "name": "stderr",
     "output_type": "stream",
     "text": [
      "(console):7:1 expected end-of-input\n",
      "else \n",
      "^"
     ]
    },
    {
     "ename": "",
     "evalue": "",
     "output_type": "error",
     "traceback": [
      "(console):7:1 expected end-of-input\nelse \n^"
     ]
    }
   ],
   "source": [
    " val note = 10\n",
    "\n",
    "if (note >= 10) {\n",
    "    println(\"Pass\")\n",
    "    print(\"Moyenne = \" +note)\n",
    "}\n",
    "else \n",
    "    print(\"Ajournée\")"
   ]
  },
  {
   "cell_type": "markdown",
   "id": "1fa2226b-a8bd-4aba-9d91-4f4a7223192f",
   "metadata": {},
   "source": [
    "#### Case match"
   ]
  },
  {
   "cell_type": "code",
   "execution_count": 14,
   "id": "590ef566-cedc-4dfd-9c9e-31e590fe4d03",
   "metadata": {},
   "outputs": [
    {
     "data": {
      "text/plain": [
       "\u001b[32mimport \u001b[39m\u001b[36mscala.util.Random\n",
       "\n",
       "\u001b[39m\n",
       "\u001b[36mx\u001b[39m: \u001b[32mInt\u001b[39m = \u001b[32m7\u001b[39m\n",
       "\u001b[36mres13_2\u001b[39m: \u001b[32mString\u001b[39m = \u001b[32m\"other\"\u001b[39m"
      ]
     },
     "execution_count": 14,
     "metadata": {},
     "output_type": "execute_result"
    }
   ],
   "source": [
    "import scala.util.Random\n",
    "\n",
    "val x: Int = Random.nextInt(10)\n",
    "\n",
    "x match {\n",
    "  case 0 => \"zero\"\n",
    "  case 1 => \"one\"\n",
    "  case 2 => \"two\"\n",
    "  case _ => \"other\"\n",
    "}"
   ]
  },
  {
   "cell_type": "code",
   "execution_count": 15,
   "id": "460fa196-c842-4760-93d7-fa0a66200e0e",
   "metadata": {},
   "outputs": [
    {
     "name": "stdout",
     "output_type": "stream",
     "text": [
      "stopping\n"
     ]
    },
    {
     "data": {
      "text/plain": [
       "\u001b[36mcmd\u001b[39m: \u001b[32mString\u001b[39m = \u001b[32m\"stop\"\u001b[39m"
      ]
     },
     "execution_count": 15,
     "metadata": {},
     "output_type": "execute_result"
    }
   ],
   "source": [
    "val cmd = \"stop\"\n",
    "cmd match {\n",
    "    case \"start\" | \"go\" => println(\"starting\")\n",
    "    case \"stop\" | \"quit\" | \"exit\" => println(\"stopping\")\n",
    "    case _ => println(\"doing nothing\")\n",
    "}"
   ]
  },
  {
   "cell_type": "markdown",
   "id": "ce9e3776-115b-4bf0-8aeb-6764a7035a85",
   "metadata": {},
   "source": [
    "#### Boucle while / do while"
   ]
  },
  {
   "cell_type": "code",
   "execution_count": 16,
   "id": "11278e8f-1075-40a2-911a-7c1d28962537",
   "metadata": {},
   "outputs": [
    {
     "data": {
      "text/plain": [
       "\u001b[36mtext\u001b[39m: \u001b[32mString\u001b[39m = \u001b[32m\"Bienvenue dans le monde de Scala ! \"\u001b[39m\n",
       "\u001b[36mtabString\u001b[39m: \u001b[32mArray\u001b[39m[\u001b[32mString\u001b[39m] = \u001b[33mArray\u001b[39m(\n",
       "  \u001b[32m\"Bienvenue\"\u001b[39m,\n",
       "  \u001b[32m\"dans\"\u001b[39m,\n",
       "  \u001b[32m\"le\"\u001b[39m,\n",
       "  \u001b[32m\"monde\"\u001b[39m,\n",
       "  \u001b[32m\"de\"\u001b[39m,\n",
       "  \u001b[32m\"Scala\"\u001b[39m,\n",
       "  \u001b[32m\"!\"\u001b[39m\n",
       ")\n",
       "\u001b[36mres15_2\u001b[39m: \u001b[32mArray\u001b[39m[\u001b[32mString\u001b[39m] = \u001b[33mArray\u001b[39m(\n",
       "  \u001b[32m\"Bienvenue\"\u001b[39m,\n",
       "  \u001b[32m\"dans\"\u001b[39m,\n",
       "  \u001b[32m\"le\"\u001b[39m,\n",
       "  \u001b[32m\"monde\"\u001b[39m,\n",
       "  \u001b[32m\"de\"\u001b[39m,\n",
       "  \u001b[32m\"Scala\"\u001b[39m,\n",
       "  \u001b[32m\"!\"\u001b[39m\n",
       ")"
      ]
     },
     "execution_count": 16,
     "metadata": {},
     "output_type": "execute_result"
    }
   ],
   "source": [
    "val text = \"Bienvenue dans le monde de Scala ! \"\n",
    "val tabString = text.split(\" \")\n",
    "tabString"
   ]
  },
  {
   "cell_type": "code",
   "execution_count": 17,
   "id": "83282fde-20a0-48d3-a0e4-2edf97ff4331",
   "metadata": {},
   "outputs": [
    {
     "name": "stdout",
     "output_type": "stream",
     "text": [
      "Bienvenue\n",
      "dans\n",
      "le\n",
      "monde\n",
      "de\n",
      "Scala\n",
      "!\n"
     ]
    },
    {
     "data": {
      "text/html": [
       "<div class=\"jp-RenderedText\">\n",
       "<pre><code><span style=\"color: rgb(0, 187, 187)\"><span class=\"ansi-cyan-fg\">i</span></span>: <span style=\"color: rgb(0, 187, 0)\"><span class=\"ansi-green-fg\">Int</span></span> = <span style=\"color: rgb(0, 187, 0)\"><span class=\"ansi-green-fg\">7</span></span></code></pre>\n",
       "</div>"
      ],
      "text/plain": [
       "\u001b[36mi\u001b[39m: \u001b[32mInt\u001b[39m = \u001b[32m7\u001b[39m"
      ]
     },
     "metadata": {},
     "output_type": "display_data"
    }
   ],
   "source": [
    "var i = 0\n",
    "while (i < tabString.length) {\n",
    "    println(tabString(i))\n",
    "    i += 1\n",
    "}"
   ]
  },
  {
   "cell_type": "code",
   "execution_count": 18,
   "id": "ad152679-abec-4711-b04f-17bf01ba1330",
   "metadata": {},
   "outputs": [
    {
     "name": "stdout",
     "output_type": "stream",
     "text": [
      "Bienvenue\n",
      "dans\n",
      "le\n",
      "monde\n",
      "de\n",
      "Scala\n",
      "!\n"
     ]
    },
    {
     "data": {
      "text/html": [
       "<div class=\"jp-RenderedText\">\n",
       "<pre><code><span style=\"color: rgb(0, 187, 187)\"><span class=\"ansi-cyan-fg\">i</span></span>: <span style=\"color: rgb(0, 187, 0)\"><span class=\"ansi-green-fg\">Int</span></span> = <span style=\"color: rgb(0, 187, 0)\"><span class=\"ansi-green-fg\">7</span></span></code></pre>\n",
       "</div>"
      ],
      "text/plain": [
       "\u001b[36mi\u001b[39m: \u001b[32mInt\u001b[39m = \u001b[32m7\u001b[39m"
      ]
     },
     "metadata": {},
     "output_type": "display_data"
    }
   ],
   "source": [
    "var i = 0\n",
    "do {\n",
    "     println(tabString(i))\n",
    "     i+=1\n",
    "} while ( i < tabString.length)"
   ]
  },
  {
   "cell_type": "markdown",
   "id": "3536b4da-6737-4d05-9675-7f8e454cd38e",
   "metadata": {},
   "source": [
    "### For et Foreach"
   ]
  },
  {
   "cell_type": "code",
   "execution_count": 19,
   "id": "b5005eef-89f2-45e4-8f7b-f730f51f14f8",
   "metadata": {},
   "outputs": [
    {
     "name": "stdout",
     "output_type": "stream",
     "text": [
      "Bienvenue\n",
      "dans\n",
      "le\n",
      "monde\n",
      "de\n",
      "Scala\n",
      "!\n"
     ]
    }
   ],
   "source": [
    "for (w <- tabString)\n",
    "    println(w)"
   ]
  },
  {
   "cell_type": "code",
   "execution_count": 20,
   "id": "fb1705a5-db7a-4608-bf23-4cea64748c04",
   "metadata": {},
   "outputs": [
    {
     "name": "stdout",
     "output_type": "stream",
     "text": [
      "Bienvenue\n",
      "dans\n",
      "le\n",
      "monde\n",
      "de\n",
      "Scala\n",
      "!\n"
     ]
    }
   ],
   "source": [
    "for (i <- 0 to tabString.length - 1)\n",
    "    println(tabString(i))"
   ]
  },
  {
   "cell_type": "markdown",
   "id": "4035e3d1-f82c-477f-b533-286da42a74ce",
   "metadata": {},
   "source": [
    "Afficher les nombres impaires et 1 à 100"
   ]
  },
  {
   "cell_type": "code",
   "execution_count": 21,
   "id": "4e364264-d2e6-4ee0-96cb-4c3736b73882",
   "metadata": {},
   "outputs": [
    {
     "name": "stdout",
     "output_type": "stream",
     "text": [
      "Liste des nombres impaires\n",
      "1 3 5 7 9 11 13 15 17 19 21 23 25 27 29 31 33 35 37 39 41 43 45 47 49 51 53 55 57 59 61 63 65 67 69 71 73 75 77 79 81 83 85 87 89 91 93 95 97 99 "
     ]
    },
    {
     "data": {
      "text/plain": [
       "\u001b[36mn\u001b[39m: \u001b[32mInt\u001b[39m = \u001b[32m100\u001b[39m"
      ]
     },
     "execution_count": 21,
     "metadata": {},
     "output_type": "execute_result"
    }
   ],
   "source": [
    "val n = 100\n",
    "println(\"Liste des nombres impaires\")\n",
    "for (i <- 1 to n)\n",
    "    if (i % 2 != 0 )\n",
    "        print(i + \" \")"
   ]
  },
  {
   "cell_type": "markdown",
   "id": "3ffcec2c-0cae-4db6-b63c-5315ee3c00e2",
   "metadata": {},
   "source": [
    "Boucle for sur un map"
   ]
  },
  {
   "cell_type": "code",
   "execution_count": 22,
   "id": "0869ef09-cb10-4f58-b960-06ea8b12cd06",
   "metadata": {},
   "outputs": [
    {
     "name": "stdout",
     "output_type": "stream",
     "text": [
      "key: Prenom, value: Macky\n",
      "key: Nom, value: Sall\n"
     ]
    },
    {
     "data": {
      "text/plain": [
       "\u001b[36mnames\u001b[39m: \u001b[32mMap\u001b[39m[\u001b[32mString\u001b[39m, \u001b[32mString\u001b[39m] = \u001b[33mMap\u001b[39m(\u001b[32m\"Prenom\"\u001b[39m -> \u001b[32m\"Macky\"\u001b[39m, \u001b[32m\"Nom\"\u001b[39m -> \u001b[32m\"Sall\"\u001b[39m)"
      ]
     },
     "execution_count": 22,
     "metadata": {},
     "output_type": "execute_result"
    }
   ],
   "source": [
    "val names = Map(\"Prenom\" -> \"Macky\", \"Nom\" -> \"Sall\")\n",
    "\n",
    "for ((k,v) <- names) \n",
    "    //println(s\"key: $k, value: $v\")\n",
    "    println(\"key: \"+k+\", value: \"+v)"
   ]
  },
  {
   "cell_type": "markdown",
   "id": "348287b5-c437-4641-9f34-b2fd95278d92",
   "metadata": {},
   "source": [
    "#### For comprehension (for/yield)"
   ]
  },
  {
   "cell_type": "code",
   "execution_count": 23,
   "id": "a8148f59-b893-4f24-9bcd-41242236f1c0",
   "metadata": {},
   "outputs": [
    {
     "data": {
      "text/plain": [
       "\u001b[36mfruits\u001b[39m: \u001b[32mArray\u001b[39m[\u001b[32mString\u001b[39m] = \u001b[33mArray\u001b[39m(\u001b[32m\"banana\"\u001b[39m, \u001b[32m\"pomme\"\u001b[39m, \u001b[32m\"orange\"\u001b[39m)\n",
       "\u001b[36mupper\u001b[39m: \u001b[32mArray\u001b[39m[\u001b[32mString\u001b[39m] = \u001b[33mArray\u001b[39m(\u001b[32m\"BANANA\"\u001b[39m, \u001b[32m\"POMME\"\u001b[39m, \u001b[32m\"ORANGE\"\u001b[39m)"
      ]
     },
     "execution_count": 23,
     "metadata": {},
     "output_type": "execute_result"
    }
   ],
   "source": [
    "val fruits = Array(\"banana\", \"pomme\", \"orange\")\n",
    "val upper = for (e <- fruits) yield e.toUpperCase"
   ]
  },
  {
   "cell_type": "code",
   "execution_count": 24,
   "id": "fce84cc5-4f11-49f5-b12e-4c3d6cab3629",
   "metadata": {},
   "outputs": [
    {
     "data": {
      "text/plain": [
       "\u001b[36mlengths\u001b[39m: \u001b[32mArray\u001b[39m[\u001b[32mInt\u001b[39m] = \u001b[33mArray\u001b[39m(\u001b[32m6\u001b[39m, \u001b[32m5\u001b[39m, \u001b[32m6\u001b[39m)"
      ]
     },
     "execution_count": 24,
     "metadata": {},
     "output_type": "execute_result"
    }
   ],
   "source": [
    "val lengths = for (e <- fruits) yield {\n",
    "                        e.length\n",
    "}"
   ]
  },
  {
   "cell_type": "code",
   "execution_count": 25,
   "id": "ca0dd9fb-445a-4cb6-96c9-ba53628dbb22",
   "metadata": {},
   "outputs": [
    {
     "data": {
      "text/plain": [
       "\u001b[36mnewlist\u001b[39m: \u001b[32mArray\u001b[39m[\u001b[32mAny\u001b[39m] = \u001b[33mArray\u001b[39m(\u001b[32m\"banana\"\u001b[39m, (), \u001b[32m\"orange\"\u001b[39m)"
      ]
     },
     "execution_count": 25,
     "metadata": {},
     "output_type": "execute_result"
    }
   ],
   "source": [
    "val newlist = for (e <- fruits ) yield {\n",
    "        if(e.contains(\"a\")) \n",
    "            e\n",
    "}"
   ]
  },
  {
   "cell_type": "code",
   "execution_count": 26,
   "id": "63e1f392-f04b-4d9f-9877-3a853e741f6a",
   "metadata": {},
   "outputs": [
    {
     "data": {
      "text/plain": [
       "\u001b[36mnombres\u001b[39m: \u001b[32mList\u001b[39m[\u001b[32mInt\u001b[39m] = \u001b[33mList\u001b[39m(\u001b[32m1\u001b[39m, \u001b[32m2\u001b[39m, \u001b[32m3\u001b[39m, \u001b[32m5\u001b[39m)\n",
       "\u001b[36mcarre\u001b[39m: \u001b[32mList\u001b[39m[\u001b[32mInt\u001b[39m] = \u001b[33mList\u001b[39m(\u001b[32m1\u001b[39m, \u001b[32m4\u001b[39m, \u001b[32m9\u001b[39m, \u001b[32m25\u001b[39m)"
      ]
     },
     "execution_count": 26,
     "metadata": {},
     "output_type": "execute_result"
    }
   ],
   "source": [
    "val nombres = List(1, 2, 3, 5)\n",
    "val carre = for (e <- nombres) yield e*e"
   ]
  },
  {
   "cell_type": "markdown",
   "id": "f0fa03d0-d43c-4cb9-82a4-fdca2413bfff",
   "metadata": {},
   "source": [
    "Foreach permet de lire de collections (List, set, array ...). Il prend souvent en argument une function"
   ]
  },
  {
   "cell_type": "code",
   "execution_count": 27,
   "id": "79b5fdb4-15e7-402a-a068-c7fda0b62cde",
   "metadata": {},
   "outputs": [
    {
     "data": {
      "text/plain": [
       "\u001b[36mres26\u001b[39m: \u001b[32mArray\u001b[39m[\u001b[32mString\u001b[39m] = \u001b[33mArray\u001b[39m(\u001b[32m\"BANANA\"\u001b[39m, \u001b[32m\"POMME\"\u001b[39m, \u001b[32m\"ORANGE\"\u001b[39m)"
      ]
     },
     "execution_count": 27,
     "metadata": {},
     "output_type": "execute_result"
    }
   ],
   "source": [
    "upper"
   ]
  },
  {
   "cell_type": "code",
   "execution_count": 28,
   "id": "53987d5c-cae0-44cb-b26f-5eb1a02504fb",
   "metadata": {},
   "outputs": [
    {
     "name": "stdout",
     "output_type": "stream",
     "text": [
      "BANANA POMME ORANGE "
     ]
    }
   ],
   "source": [
    "upper.foreach(w => print(w + \" \"))"
   ]
  },
  {
   "cell_type": "code",
   "execution_count": 29,
   "id": "a73235ce-5f19-4142-906f-eea1bfe4b4af",
   "metadata": {},
   "outputs": [
    {
     "name": "stdout",
     "output_type": "stream",
     "text": [
      "BANANA\n",
      "POMME\n",
      "ORANGE\n"
     ]
    }
   ],
   "source": [
    "upper.foreach(println)"
   ]
  },
  {
   "cell_type": "code",
   "execution_count": null,
   "id": "c09da368-f39f-453e-8e14-df0c96c2a63d",
   "metadata": {},
   "outputs": [],
   "source": [
    "/*\n",
    "sum = 0\n",
    "for x <- tab\n",
    "sum = sum + x\n",
    "*/"
   ]
  },
  {
   "cell_type": "code",
   "execution_count": 30,
   "id": "ffae2dc3-327f-4736-a325-80a3941754a0",
   "metadata": {},
   "outputs": [
    {
     "name": "stdout",
     "output_type": "stream",
     "text": [
      "Somme 111\n"
     ]
    },
    {
     "data": {
      "text/html": [
       "<div class=\"jp-RenderedText\">\n",
       "<pre><code><span style=\"color: rgb(0, 187, 187)\"><span class=\"ansi-cyan-fg\">liste</span></span>: <span style=\"color: rgb(0, 187, 0)\"><span class=\"ansi-green-fg\">List</span></span>[<span style=\"color: rgb(0, 187, 0)\"><span class=\"ansi-green-fg\">Int</span></span>] = <span style=\"color: yellow\"><span class=\"ansi-yellow-fg\">List</span></span>(<span style=\"color: rgb(0, 187, 0)\"><span class=\"ansi-green-fg\">1</span></span>, <span style=\"color: rgb(0, 187, 0)\"><span class=\"ansi-green-fg\">2</span></span>, <span style=\"color: rgb(0, 187, 0)\"><span class=\"ansi-green-fg\">4</span></span>, <span style=\"color: rgb(0, 187, 0)\"><span class=\"ansi-green-fg\">6</span></span>, <span style=\"color: rgb(0, 187, 0)\"><span class=\"ansi-green-fg\">8</span></span>, <span style=\"color: rgb(0, 187, 0)\"><span class=\"ansi-green-fg\">10</span></span>, <span style=\"color: rgb(0, 187, 0)\"><span class=\"ansi-green-fg\">12</span></span>, <span style=\"color: rgb(0, 187, 0)\"><span class=\"ansi-green-fg\">14</span></span>, <span style=\"color: rgb(0, 187, 0)\"><span class=\"ansi-green-fg\">16</span></span>, <span style=\"color: rgb(0, 187, 0)\"><span class=\"ansi-green-fg\">18</span></span>, <span style=\"color: rgb(0, 187, 0)\"><span class=\"ansi-green-fg\">20</span></span>)\n",
       "<span style=\"color: rgb(0, 187, 187)\"><span class=\"ansi-cyan-fg\">sum</span></span>: <span style=\"color: rgb(0, 187, 0)\"><span class=\"ansi-green-fg\">Int</span></span> = <span style=\"color: rgb(0, 187, 0)\"><span class=\"ansi-green-fg\">111</span></span></code></pre>\n",
       "</div>"
      ],
      "text/plain": [
       "\u001b[36mliste\u001b[39m: \u001b[32mList\u001b[39m[\u001b[32mInt\u001b[39m] = \u001b[33mList\u001b[39m(\u001b[32m1\u001b[39m, \u001b[32m2\u001b[39m, \u001b[32m4\u001b[39m, \u001b[32m6\u001b[39m, \u001b[32m8\u001b[39m, \u001b[32m10\u001b[39m, \u001b[32m12\u001b[39m, \u001b[32m14\u001b[39m, \u001b[32m16\u001b[39m, \u001b[32m18\u001b[39m, \u001b[32m20\u001b[39m)\n",
       "\u001b[36msum\u001b[39m: \u001b[32mInt\u001b[39m = \u001b[32m111\u001b[39m"
      ]
     },
     "metadata": {},
     "output_type": "display_data"
    }
   ],
   "source": [
    "val liste = List(1, 2, 4, 6, 8, 10, 12, 14, 16, 18, 20)\n",
    "var sum = 0\n",
    "liste.foreach(sum += _) // x => sum+=x\n",
    "println(\"Somme \" + sum)"
   ]
  },
  {
   "cell_type": "markdown",
   "id": "4c55d8b3-29e8-400b-9e05-838b3451b512",
   "metadata": {},
   "source": [
    "### Functions \n"
   ]
  },
  {
   "cell_type": "markdown",
   "id": "4b2bd98a-e7d9-4cda-8d99-db256290b155",
   "metadata": {},
   "source": [
    "#### Fonction anonyme"
   ]
  },
  {
   "cell_type": "code",
   "execution_count": 31,
   "id": "e917611e-3461-4538-85fa-31c2f67b1df6",
   "metadata": {},
   "outputs": [
    {
     "data": {
      "text/plain": [
       "\u001b[36mres30\u001b[39m: \u001b[32mInt\u001b[39m => \u001b[32mInt\u001b[39m = ammonite.$sess.cmd30$Helper$$Lambda$2614/0x0000000800c44840@172a06c3"
      ]
     },
     "execution_count": 31,
     "metadata": {},
     "output_type": "execute_result"
    }
   ],
   "source": [
    "(x: Int) => x + 1  //"
   ]
  },
  {
   "cell_type": "code",
   "execution_count": 32,
   "id": "af03ae04-4894-4880-a928-608ab1b43d5e",
   "metadata": {},
   "outputs": [
    {
     "data": {
      "text/plain": [
       "\u001b[36mres31\u001b[39m: \u001b[32mInt\u001b[39m = \u001b[32m13\u001b[39m"
      ]
     },
     "execution_count": 32,
     "metadata": {},
     "output_type": "execute_result"
    }
   ],
   "source": [
    "res30(12)"
   ]
  },
  {
   "cell_type": "code",
   "execution_count": 33,
   "id": "8ed64c3a-022f-44f5-b2d7-fdfe8e242cfd",
   "metadata": {},
   "outputs": [
    {
     "data": {
      "text/plain": [
       "\u001b[36mincr\u001b[39m: \u001b[32mInt\u001b[39m => \u001b[32mInt\u001b[39m = ammonite.$sess.cmd32$Helper$$Lambda$2621/0x0000000800c49040@2dc536b"
      ]
     },
     "execution_count": 33,
     "metadata": {},
     "output_type": "execute_result"
    }
   ],
   "source": [
    "val incr = (x: Int) =>  x + 1 "
   ]
  },
  {
   "cell_type": "code",
   "execution_count": 34,
   "id": "70ba2a7d-a793-4d1c-90a1-00f4985d4884",
   "metadata": {},
   "outputs": [
    {
     "data": {
      "text/plain": [
       "\u001b[36mres33\u001b[39m: \u001b[32mInt\u001b[39m = \u001b[32m3\u001b[39m"
      ]
     },
     "execution_count": 34,
     "metadata": {},
     "output_type": "execute_result"
    }
   ],
   "source": [
    "incr(2)"
   ]
  },
  {
   "cell_type": "code",
   "execution_count": 35,
   "id": "eb8945dd-62a0-4a94-938d-714304027e2e",
   "metadata": {},
   "outputs": [
    {
     "name": "stdout",
     "output_type": "stream",
     "text": [
      "3\n"
     ]
    },
    {
     "data": {
      "text/plain": [
       "\u001b[36madd\u001b[39m: (\u001b[32mInt\u001b[39m, \u001b[32mInt\u001b[39m) => \u001b[32mInt\u001b[39m = ammonite.$sess.cmd34$Helper$$Lambda$2627/0x0000000800c4c840@4bb10bbf"
      ]
     },
     "execution_count": 35,
     "metadata": {},
     "output_type": "execute_result"
    }
   ],
   "source": [
    "val add = (x: Int, y: Int) => x + y\n",
    "println(add(1, 2))"
   ]
  },
  {
   "cell_type": "code",
   "execution_count": 36,
   "id": "6171fb62-fb6c-44f2-afef-605efdc4dd9c",
   "metadata": {},
   "outputs": [
    {
     "data": {
      "text/plain": [
       "\u001b[36mgetValue\u001b[39m: () => \u001b[32mInt\u001b[39m = ammonite.$sess.cmd35$Helper$$Lambda$2635/0x0000000800c51040@10e2cb3a"
      ]
     },
     "execution_count": 36,
     "metadata": {},
     "output_type": "execute_result"
    }
   ],
   "source": [
    "val getValue = () => 42"
   ]
  },
  {
   "cell_type": "code",
   "execution_count": 37,
   "id": "00202428-51b5-4827-86c6-7f01638cfd1a",
   "metadata": {},
   "outputs": [
    {
     "name": "stdout",
     "output_type": "stream",
     "text": [
      "42\n"
     ]
    }
   ],
   "source": [
    "println(getValue()) "
   ]
  },
  {
   "cell_type": "code",
   "execution_count": null,
   "id": "2c72cf01-93ad-425a-a460-8bd338bba40f",
   "metadata": {},
   "outputs": [],
   "source": []
  },
  {
   "cell_type": "markdown",
   "id": "ac12b5bd-d6ad-4fb2-8d8b-50ea1e67d4f8",
   "metadata": {},
   "source": [
    "### Keyword : def "
   ]
  },
  {
   "cell_type": "raw",
   "id": "f4f581f2-2465-4702-8c93-9aa8c858a870",
   "metadata": {},
   "source": [
    "def functionName ([list of parameters]) : [return type] = {\n",
    "    function body\n",
    "    value_to_return\n",
    "}"
   ]
  },
  {
   "cell_type": "code",
   "execution_count": 38,
   "id": "0415ad34-66a3-4473-9d5e-e9f6531bf57c",
   "metadata": {},
   "outputs": [
    {
     "data": {
      "text/plain": [
       "defined \u001b[32mfunction\u001b[39m \u001b[36mmax1\u001b[39m"
      ]
     },
     "execution_count": 38,
     "metadata": {},
     "output_type": "execute_result"
    }
   ],
   "source": [
    "def max1(x: Int, y: Int): Int = {\n",
    "        if (x > y) x\n",
    "        else y\n",
    "    }"
   ]
  },
  {
   "cell_type": "code",
   "execution_count": 39,
   "id": "5837f906-b368-4663-8a19-5f2dbe5b4f74",
   "metadata": {},
   "outputs": [
    {
     "data": {
      "text/plain": [
       "\u001b[36mres38\u001b[39m: \u001b[32mInt\u001b[39m = \u001b[32m21\u001b[39m"
      ]
     },
     "execution_count": 39,
     "metadata": {},
     "output_type": "execute_result"
    }
   ],
   "source": [
    "max1(21, 18)"
   ]
  },
  {
   "cell_type": "code",
   "execution_count": 40,
   "id": "cc834d3c-ccc6-4591-aba0-047d5ce475ab",
   "metadata": {},
   "outputs": [
    {
     "data": {
      "text/plain": [
       "defined \u001b[32mfunction\u001b[39m \u001b[36mmax2\u001b[39m"
      ]
     },
     "execution_count": 40,
     "metadata": {},
     "output_type": "execute_result"
    }
   ],
   "source": [
    "def max2(x: Int, y: Int): Int = \n",
    "        if (x > y) x\n",
    "        else y\n",
    "    "
   ]
  },
  {
   "cell_type": "code",
   "execution_count": 41,
   "id": "7a211d8a-e5ec-474c-bbed-02d6d9c53435",
   "metadata": {},
   "outputs": [
    {
     "data": {
      "text/plain": [
       "\u001b[36mres40\u001b[39m: \u001b[32mInt\u001b[39m = \u001b[32m21\u001b[39m"
      ]
     },
     "execution_count": 41,
     "metadata": {},
     "output_type": "execute_result"
    }
   ],
   "source": [
    "max2(21, 18)"
   ]
  },
  {
   "cell_type": "code",
   "execution_count": 42,
   "id": "5c3bd88e-afcb-4faa-8f8c-434c729d54ed",
   "metadata": {},
   "outputs": [
    {
     "data": {
      "text/plain": [
       "defined \u001b[32mfunction\u001b[39m \u001b[36mmax3\u001b[39m"
      ]
     },
     "execution_count": 42,
     "metadata": {},
     "output_type": "execute_result"
    }
   ],
   "source": [
    "def max3(x: Int, y: Int) = \n",
    "        if (x > y) x\n",
    "        else y"
   ]
  },
  {
   "cell_type": "code",
   "execution_count": null,
   "id": "9e22378e-db07-42d3-ae60-37b7f74d574f",
   "metadata": {},
   "outputs": [],
   "source": [
    "max3(21, 18)"
   ]
  },
  {
   "cell_type": "code",
   "execution_count": null,
   "id": "00c15c9d-8bd9-4d58-bfe7-e38f8339d7c5",
   "metadata": {},
   "outputs": [],
   "source": [
    "val maximum = (x: Int, y: Int) =>  \n",
    "                if (x > y) x \n",
    "                else y"
   ]
  },
  {
   "cell_type": "code",
   "execution_count": null,
   "id": "009b1423-cd0b-4263-814d-14ecec47e5c1",
   "metadata": {},
   "outputs": [],
   "source": [
    "maximum(21, 18)"
   ]
  },
  {
   "cell_type": "code",
   "execution_count": 43,
   "id": "8d33cb30-9d78-4eb6-9f63-f49d0512dc34",
   "metadata": {},
   "outputs": [
    {
     "data": {
      "text/plain": [
       "defined \u001b[32mfunction\u001b[39m \u001b[36mgetSquareString\u001b[39m"
      ]
     },
     "execution_count": 43,
     "metadata": {},
     "output_type": "execute_result"
    }
   ],
   "source": [
    "def getSquareString(x: Double): String = {\n",
    "  val square = x * x\n",
    "  square.toString\n",
    "}"
   ]
  },
  {
   "cell_type": "code",
   "execution_count": 44,
   "id": "41eda3bd-c8b7-4306-bca2-88f7b6dbc02a",
   "metadata": {},
   "outputs": [
    {
     "name": "stdout",
     "output_type": "stream",
     "text": [
      "144.0\n"
     ]
    }
   ],
   "source": [
    "println(getSquareString(12))"
   ]
  },
  {
   "cell_type": "code",
   "execution_count": 45,
   "id": "b354b048-df36-46d6-9686-4d627400bebb",
   "metadata": {},
   "outputs": [
    {
     "data": {
      "text/plain": [
       "defined \u001b[32mfunction\u001b[39m \u001b[36mgreet\u001b[39m"
      ]
     },
     "execution_count": 45,
     "metadata": {},
     "output_type": "execute_result"
    }
   ],
   "source": [
    "def greet() = println(\"Hello, world!\")"
   ]
  },
  {
   "cell_type": "code",
   "execution_count": null,
   "id": "8d35b652-8439-49bc-b263-8ac8dd6f785b",
   "metadata": {},
   "outputs": [],
   "source": [
    "greet()"
   ]
  },
  {
   "cell_type": "code",
   "execution_count": null,
   "id": "25d70935-dfc5-498f-a8dd-9672120a228d",
   "metadata": {},
   "outputs": [],
   "source": [
    "def bye() = println(\"Bye bye, Tomorrow!\")\n",
    "bye()"
   ]
  },
  {
   "cell_type": "markdown",
   "id": "7c3f9a24-6649-4407-b621-d5dee64a513f",
   "metadata": {},
   "source": [
    "### Exception try/catch/finally\n",
    "Similaire à Java\n"
   ]
  },
  {
   "cell_type": "code",
   "execution_count": 46,
   "id": "9bc2d7d8-12f7-4bc6-a715-f526f8a44a78",
   "metadata": {},
   "outputs": [
    {
     "ename": "",
     "evalue": "",
     "output_type": "error",
     "traceback": [
      "\u001b[31mjava.lang.RuntimeException\u001b[39m\n  ammonite.$sess.cmd45$Helper.<init>(\u001b[32mcmd45.sc\u001b[39m:\u001b[32m1\u001b[39m)\n  ammonite.$sess.cmd45$.<clinit>(\u001b[32mcmd45.sc\u001b[39m:\u001b[32m7\u001b[39m)"
     ]
    }
   ],
   "source": [
    "val throwsException = throw new RuntimeException  // Nothing"
   ]
  },
  {
   "cell_type": "code",
   "execution_count": 47,
   "id": "2ab20510-ce42-49ae-aa2a-0d803555c79c",
   "metadata": {},
   "outputs": [
    {
     "name": "stdout",
     "output_type": "stream",
     "text": [
      "some logs\n"
     ]
    },
    {
     "data": {
      "text/plain": [
       "\u001b[36maPotentialFailure\u001b[39m: \u001b[32mString\u001b[39m = \u001b[32m\"I caught an exception\"\u001b[39m"
      ]
     },
     "execution_count": 47,
     "metadata": {},
     "output_type": "execute_result"
    }
   ],
   "source": [
    "val aPotentialFailure = try {\n",
    "    throw new RuntimeException\n",
    "  }catch {\n",
    "    case e: Exception => \"I caught an exception\"\n",
    "  }finally {\n",
    "    println(\"some logs\")\n",
    "  }"
   ]
  },
  {
   "cell_type": "markdown",
   "id": "c6596463-5cd0-44e4-b6d6-8cd515b0dada",
   "metadata": {},
   "source": [
    "## Scala Script\n",
    "\n",
    "**Demo** sur IntelliJ ou VSCODE\n",
    "\n",
    "Copier le code ci-dessous sur votre éditeur préféré :\n",
    "\n",
    "```object HelloWorld {\n",
    "        def main(args: Array[String]){\n",
    "        println(\"Hello, world!\")\n",
    "        }\n",
    "    }\n",
    "```\n"
   ]
  },
  {
   "cell_type": "markdown",
   "id": "5d23441e-bca4-4880-89a4-a1af34c71a43",
   "metadata": {},
   "source": [
    "## Exercice à faire 15 mn"
   ]
  },
  {
   "cell_type": "markdown",
   "id": "35faddb5-636d-45f6-99aa-a7d1ff3f9a87",
   "metadata": {},
   "source": [
    "**Exercice 1 :**  \n",
    "Ecrire un programme scala qui permet de calculer le pgcd de deux nombre donnés en argument de ligne de commande."
   ]
  },
  {
   "cell_type": "markdown",
   "id": "a32251eb-e056-46b1-96ce-4b46ead23071",
   "metadata": {},
   "source": [
    "**Exercice 2 :**  \n",
    "Suite de Fibonnacci,  \n",
    "\n",
    "F(0) = 1  \n",
    "F(1) = 1  \n",
    "F(n) = F(n-1) + F(n-2)\n",
    "\n",
    "Ecrire un programme recusrsive en Scala qui permet de calculer la suite de Fibonnacci\n",
    "\n",
    "## Exercice à Rendre\n",
    "\n",
    "**Exercice 3 :**\n",
    "Ecrire en Scala un programme qui prend en entrée un entier `n` et retourne son écriture en base 2.\n",
    " \n",
    " Exemple :  \n",
    " toBase2(2) -> 10  \n",
    " toBase2(7) -> 111\n",
    " \n",
    " **Exercice 4**:  \n",
    " Ecrire un programme en Scala qui permet de faire la recherche binaire dans une liste de nombres d'entier en utilisant la méthode divisé pour régner.\n",
    " "
   ]
  },
  {
   "cell_type": "markdown",
   "id": "e79547d8-00ae-4e0b-8851-055d9c7195cd",
   "metadata": {},
   "source": [
    "### Rappel\n",
    "\n",
    "Les classes et les objets sont les composants fondamentaux de la programation orientée objet.\n",
    "\n",
    "Le concept d’utilisation de **classes** et d’**objets** consiste à encapsuler l’état et le comportement dans une seule unité de programmation. Les objets sont similaires aux objets du monde réel. Par exemple, nous pouvons créer un objet voiture, qui aura des propriétés telles que la vitesse et la couleur; et un comportement comme: accélérer et freiner.  "
   ]
  },
  {
   "cell_type": "markdown",
   "id": "0b186676-87b2-4608-b19b-9ad8ec111c69",
   "metadata": {},
   "source": [
    "![](images/oo.png)"
   ]
  },
  {
   "cell_type": "raw",
   "id": "50d1a5e4-4f6f-46c6-ac5f-a4ff9ddf2f9c",
   "metadata": {},
   "source": [
    "class Voiture(id : Long, marque : String, vitesse : Float, colour : String){\n",
    "    \n",
    "    def demarrer(){\n",
    "      // ...\n",
    "    }\n",
    "    def accelerer(){\n",
    "    // ...\n",
    "    }\n",
    "    def arreter(){\n",
    "    // ...\n",
    "    }\n",
    "    \n",
    "    def getVitesse(): Float = vitesse\n",
    "  \n",
    "    def getMarque(): String = marque \n",
    "    \n",
    "    def getCouleur(): String = couleur\n",
    "    \n",
    "    // autres methodes\n",
    "    ...\n",
    "    \n",
    "}"
   ]
  },
  {
   "cell_type": "code",
   "execution_count": 48,
   "id": "956c4427-e168-4c23-b004-540ba7449179",
   "metadata": {},
   "outputs": [
    {
     "data": {
      "text/plain": [
       "defined \u001b[32mclass\u001b[39m \u001b[36mUser\u001b[39m"
      ]
     },
     "execution_count": 48,
     "metadata": {},
     "output_type": "execute_result"
    }
   ],
   "source": [
    "class User"
   ]
  },
  {
   "cell_type": "markdown",
   "id": "91d0a0e4-beda-4732-8ea3-7354155d4f39",
   "metadata": {},
   "source": [
    "Instanciation d'un objet de la classe User avec **new**"
   ]
  },
  {
   "cell_type": "code",
   "execution_count": 49,
   "id": "19ba7d77-273a-4ac9-97f1-05e69cce02f6",
   "metadata": {},
   "outputs": [
    {
     "data": {
      "text/plain": [
       "\u001b[36muser1\u001b[39m: \u001b[32mUser\u001b[39m = ammonite.$sess.cmd47$Helper$User@6f6f2267"
      ]
     },
     "execution_count": 49,
     "metadata": {},
     "output_type": "execute_result"
    }
   ],
   "source": [
    "val user1 = new User"
   ]
  },
  {
   "cell_type": "code",
   "execution_count": 50,
   "id": "60273485-072a-4925-b2ec-2e5c8d7fdad5",
   "metadata": {},
   "outputs": [
    {
     "data": {
      "text/plain": [
       "\u001b[36mres49\u001b[39m: \u001b[32mUser\u001b[39m = ammonite.$sess.cmd47$Helper$User@6f6f2267"
      ]
     },
     "execution_count": 50,
     "metadata": {},
     "output_type": "execute_result"
    }
   ],
   "source": [
    "user1"
   ]
  },
  {
   "cell_type": "markdown",
   "id": "3bb162d2-a74b-4307-82ea-553e3aa5cdb0",
   "metadata": {},
   "source": [
    "#### classe Point"
   ]
  },
  {
   "cell_type": "markdown",
   "id": "1010e7a8-2ccf-4df0-99c5-237e5aaa8bf8",
   "metadata": {},
   "source": [
    "Création de la classe Point avec un constructeur qui a deux argument, les données membres sont accessibles et modifialbes grace au mot clé **var**. Le mot-clé **override** nous permet de surcharger la methode **toString** de la classe mère **Object**."
   ]
  },
  {
   "cell_type": "code",
   "execution_count": 51,
   "id": "21c62a82-2933-4688-a22a-97237ff2bde3",
   "metadata": {},
   "outputs": [
    {
     "data": {
      "text/plain": [
       "defined \u001b[32mclass\u001b[39m \u001b[36mPoint\u001b[39m"
      ]
     },
     "execution_count": 51,
     "metadata": {},
     "output_type": "execute_result"
    }
   ],
   "source": [
    "class Point(var x: Int, var y: Int) {\n",
    "\n",
    "  def move(dx: Int, dy: Int): Unit = {\n",
    "    x = x + dx\n",
    "    y = y + dy\n",
    "  }\n",
    "\n",
    "  override def toString: String =\n",
    "    s\"($x, $y)\"\n",
    "}"
   ]
  },
  {
   "cell_type": "code",
   "execution_count": 52,
   "id": "a466b337-9112-4a6e-88ea-78a4ebf86238",
   "metadata": {},
   "outputs": [
    {
     "name": "stdout",
     "output_type": "stream",
     "text": [
      "2\n",
      "3\n",
      "(5, 9)\n"
     ]
    },
    {
     "data": {
      "text/plain": [
       "\u001b[36mp1\u001b[39m: \u001b[32mPoint\u001b[39m = (2, 3)\n",
       "\u001b[36mp2\u001b[39m: \u001b[32mPoint\u001b[39m = (5, 9)"
      ]
     },
     "execution_count": 52,
     "metadata": {},
     "output_type": "execute_result"
    }
   ],
   "source": [
    "val p1 = new Point(2, 3)\n",
    "val p2 = new Point(5, 9)\n",
    "println(p1.x)\n",
    "println(p1.y)\n",
    "println(p2)"
   ]
  },
  {
   "cell_type": "markdown",
   "id": "49cb266b-b573-48c5-827a-3a2e08d6957c",
   "metadata": {},
   "source": [
    "**Erreur de compilation de compilation**: Pas de constructeur avec un seul argument"
   ]
  },
  {
   "cell_type": "code",
   "execution_count": 52,
   "id": "7b71902a-0c91-4c2b-a244-f92919fa03b3",
   "metadata": {},
   "outputs": [
    {
     "name": "stderr",
     "output_type": "stream",
     "text": [
      "cmd52.sc:1: not enough arguments for constructor Point: (x: Int, y: Int): cmd52.this.cmd50.Point.\n",
      "Unspecified value parameter y.\n",
      "val p3 = new Point(2)\n",
      "         ^Compilation Failed"
     ]
    },
    {
     "ename": "",
     "evalue": "",
     "output_type": "error",
     "traceback": [
      "Compilation Failed"
     ]
    }
   ],
   "source": [
    "val p3 = new Point(2)"
   ]
  },
  {
   "cell_type": "markdown",
   "id": "965d40d4-2d14-4ba9-868f-2e3e194c5d3b",
   "metadata": {},
   "source": [
    "### Constructeurs"
   ]
  },
  {
   "cell_type": "markdown",
   "id": "ed11ccd8-8a99-4fbf-bdb5-806f372d2e6a",
   "metadata": {},
   "source": [
    "Création de la classe Point avec un constructeur ayant des valeurs par défaut."
   ]
  },
  {
   "cell_type": "code",
   "execution_count": 53,
   "id": "c88e2f7b-0f47-4440-8cbd-b0df4eb21721",
   "metadata": {},
   "outputs": [
    {
     "name": "stdout",
     "output_type": "stream",
     "text": [
      "p1.x = 1\n"
     ]
    },
    {
     "data": {
      "text/plain": [
       "defined \u001b[32mclass\u001b[39m \u001b[36mPoint\u001b[39m\n",
       "\u001b[36mp0\u001b[39m: \u001b[32mPoint\u001b[39m = ammonite.$sess.cmd52$Helper$Point@52e649e6\n",
       "\u001b[36mp1\u001b[39m: \u001b[32mPoint\u001b[39m = ammonite.$sess.cmd52$Helper$Point@23824bd5"
      ]
     },
     "execution_count": 53,
     "metadata": {},
     "output_type": "execute_result"
    }
   ],
   "source": [
    "class Point(var x: Int = 0, var y: Int = 0)\n",
    "\n",
    "val p0 = new Point  \n",
    "val p1 = new Point(1) // par 1 sera par defaut affecté à x\n",
    "println(\"p1.x = \" + p1.x) "
   ]
  },
  {
   "cell_type": "code",
   "execution_count": 54,
   "id": "a738f1d9-da37-4ca9-bfa2-f73bca521867",
   "metadata": {},
   "outputs": [
    {
     "name": "stdout",
     "output_type": "stream",
     "text": [
      "2\n"
     ]
    },
    {
     "data": {
      "text/plain": [
       "\u001b[36mp2\u001b[39m: \u001b[32mPoint\u001b[39m = ammonite.$sess.cmd52$Helper$Point@61e11da"
      ]
     },
     "execution_count": 54,
     "metadata": {},
     "output_type": "execute_result"
    }
   ],
   "source": [
    "val p2 = new Point(y = 2)\n",
    "println(p2.y)  "
   ]
  },
  {
   "cell_type": "code",
   "execution_count": 55,
   "id": "23b14463-15ac-41df-8846-1a67bf883618",
   "metadata": {},
   "outputs": [
    {
     "data": {
      "text/plain": [
       "defined \u001b[32mclass\u001b[39m \u001b[36mPoint\u001b[39m"
      ]
     },
     "execution_count": 55,
     "metadata": {},
     "output_type": "execute_result"
    }
   ],
   "source": [
    "class Point(var x: Int = 0, var y: Int = 0) {\n",
    "\n",
    "  def move(dx: Int, dy: Int): Unit = {\n",
    "    x = x + dx\n",
    "    y = y + dy\n",
    "  }\n",
    "\n",
    "  override def toString: String =\n",
    "    s\"($x, $y)\"\n",
    "}"
   ]
  },
  {
   "cell_type": "code",
   "execution_count": null,
   "id": "065c5c3f-78d8-4385-834b-b846192850e1",
   "metadata": {},
   "outputs": [],
   "source": [
    "val p0 = new Point\n",
    "val p1 = new Point(1)\n",
    "val p2 = new Point(2,6)"
   ]
  },
  {
   "cell_type": "code",
   "execution_count": null,
   "id": "72968a7c-d108-4d3b-bb30-d3b4dce62b01",
   "metadata": {},
   "outputs": [],
   "source": [
    "p2.move(1,0)"
   ]
  },
  {
   "cell_type": "code",
   "execution_count": null,
   "id": "4664d0ab-a92b-42ab-854e-158a868818fd",
   "metadata": {},
   "outputs": [],
   "source": [
    "println(p2)"
   ]
  },
  {
   "cell_type": "code",
   "execution_count": null,
   "id": "945e3cb4-01d5-4ba8-8e00-ff123d203479",
   "metadata": {},
   "outputs": [],
   "source": [
    "var p3 = new Point(2,1)\n",
    "p3 = p2"
   ]
  },
  {
   "cell_type": "markdown",
   "id": "03929335-70bc-4a45-9178-a1e628028b16",
   "metadata": {},
   "source": [
    "### Membres privates et Getter/Setter"
   ]
  },
  {
   "cell_type": "markdown",
   "id": "f2fe8338-d8d4-41fa-a052-e2c944be1bbf",
   "metadata": {},
   "source": [
    "Les données membres _x et _y ne sont accessibles qu'appartir du getteur et du setteur"
   ]
  },
  {
   "cell_type": "code",
   "execution_count": 56,
   "id": "3b02c6a7-2004-4085-95b4-c2c836cb5b78",
   "metadata": {},
   "outputs": [
    {
     "data": {
      "text/plain": [
       "defined \u001b[32mclass\u001b[39m \u001b[36mPoint\u001b[39m"
      ]
     },
     "execution_count": 56,
     "metadata": {},
     "output_type": "execute_result"
    }
   ],
   "source": [
    "class Point {\n",
    "  private var _x = 0\n",
    "  private var _y = 0\n",
    "  private val bound = 100\n",
    "  \n",
    "    def this(x : Int, y: Int) = {\n",
    "      this(); // appel du constructeur par defaut\n",
    "      _x = x\n",
    "      _y = y\n",
    "    }\n",
    "\n",
    "  // Definition d'un getteur \n",
    "  def x = _x\n",
    "  \n",
    "  // Definition d'un setteur\n",
    "  def x_= (newValue: Int): Unit = {\n",
    "    if (newValue < bound) _x = newValue else printWarning\n",
    "  }\n",
    "    \n",
    "    \n",
    "\n",
    "  def y = _y\n",
    "  def y_= (newValue: Int): Unit = {\n",
    "    if (newValue < bound) _y = newValue else printWarning\n",
    "  }\n",
    "\n",
    "  private def printWarning = println(\"WARNING: Out of bounds\")\n",
    "\n",
    "  override def toString: String =\n",
    "    s\"($x, $y)\"\n",
    "}"
   ]
  },
  {
   "cell_type": "markdown",
   "id": "4d759b15-f1e9-4ac6-80c1-7ad5d6f99827",
   "metadata": {},
   "source": [
    "Dans cette classe, il n y a pas de constructeur explicite, c'est le constructeur par defaut qui est appelé"
   ]
  },
  {
   "cell_type": "code",
   "execution_count": 57,
   "id": "ec35e8f0-f2c0-48e3-afdb-0972ffde1dc2",
   "metadata": {},
   "outputs": [
    {
     "data": {
      "text/plain": [
       "\u001b[36mp0\u001b[39m: \u001b[32mPoint\u001b[39m = (0, 0)"
      ]
     },
     "execution_count": 57,
     "metadata": {},
     "output_type": "execute_result"
    }
   ],
   "source": [
    "val p0 = new Point"
   ]
  },
  {
   "cell_type": "code",
   "execution_count": 58,
   "id": "66571e11-573b-46af-86a7-152f409295c9",
   "metadata": {},
   "outputs": [],
   "source": [
    "// Le setteur est appliqué\n",
    "p0.x = 1\n",
    "p0.y = 5"
   ]
  },
  {
   "cell_type": "code",
   "execution_count": 59,
   "id": "0cf5b50d-dbac-41c6-af5c-6fca72ab784a",
   "metadata": {},
   "outputs": [
    {
     "data": {
      "text/plain": [
       "\u001b[36mres58\u001b[39m: \u001b[32mInt\u001b[39m = \u001b[32m1\u001b[39m"
      ]
     },
     "execution_count": 59,
     "metadata": {},
     "output_type": "execute_result"
    }
   ],
   "source": [
    "// Le getteur est appliqué\n",
    "p0.x"
   ]
  },
  {
   "cell_type": "code",
   "execution_count": 60,
   "id": "034eab48-a1cb-46f7-95ad-d64be652f73c",
   "metadata": {},
   "outputs": [
    {
     "name": "stdout",
     "output_type": "stream",
     "text": [
      "(1, 5)\n"
     ]
    }
   ],
   "source": [
    "println(p0)"
   ]
  },
  {
   "cell_type": "code",
   "execution_count": 61,
   "id": "dad55262-04cd-4406-bf5a-ba16f1d76176",
   "metadata": {},
   "outputs": [
    {
     "data": {
      "text/plain": [
       "\u001b[36mp1\u001b[39m: \u001b[32mPoint\u001b[39m = (1, 1)"
      ]
     },
     "execution_count": 61,
     "metadata": {},
     "output_type": "execute_result"
    }
   ],
   "source": [
    "val p1 = new Point(1,1)"
   ]
  },
  {
   "cell_type": "code",
   "execution_count": 62,
   "id": "40bd9e01-ae5d-4fbe-891b-ac912e6aeeee",
   "metadata": {},
   "outputs": [
    {
     "name": "stdout",
     "output_type": "stream",
     "text": [
      "WARNING: Out of bounds\n"
     ]
    },
    {
     "data": {
      "text/plain": [
       "\u001b[36mp2\u001b[39m: \u001b[32mPoint\u001b[39m = (54, 0)"
      ]
     },
     "execution_count": 62,
     "metadata": {},
     "output_type": "execute_result"
    }
   ],
   "source": [
    "val p2 = new Point\n",
    "p2.x = 54\n",
    "p2.y = 101 "
   ]
  },
  {
   "cell_type": "markdown",
   "id": "266c58e8-b357-4e4a-b772-ef2a3457c301",
   "metadata": {},
   "source": [
    "### Accés Publiques/privates \n",
    "Les parametres du constructeur sont public avec **var** ou **val**. Cependant, **val** ne permet pas de modifier la variable (immutable)."
   ]
  },
  {
   "cell_type": "code",
   "execution_count": null,
   "id": "8db033af-e0fa-43c7-a644-a291310968be",
   "metadata": {},
   "outputs": [],
   "source": [
    "class Point(val x: Int, var y: Int)"
   ]
  },
  {
   "cell_type": "code",
   "execution_count": null,
   "id": "80c13026-33c3-47ac-a785-f8add73f6980",
   "metadata": {},
   "outputs": [],
   "source": [
    "val p = new Point(1, 2)"
   ]
  },
  {
   "cell_type": "code",
   "execution_count": null,
   "id": "a3a3ee35-4b9a-43c2-8f9c-03b70d9756ed",
   "metadata": {},
   "outputs": [],
   "source": [
    "p.y = 5  // modifiable à cause de mot-clé var"
   ]
  },
  {
   "cell_type": "code",
   "execution_count": null,
   "id": "c7f7271f-34bb-4bb4-b19f-001f42c05f5c",
   "metadata": {},
   "outputs": [],
   "source": [
    "p.x = 3  // non modifiable puisqu'il est défini avec val"
   ]
  },
  {
   "cell_type": "code",
   "execution_count": null,
   "id": "4baaf45e-7dcd-4f78-a8b1-f89a3b32c3e5",
   "metadata": {},
   "outputs": [],
   "source": [
    "p.x"
   ]
  },
  {
   "cell_type": "markdown",
   "id": "a7a9e43f-a3b6-40cf-9de6-4fe7808e0636",
   "metadata": {},
   "source": [
    "**Attention** Si le constructeur est déclaré sans **val** ou **var**, les paramètres son privates."
   ]
  },
  {
   "cell_type": "code",
   "execution_count": null,
   "id": "afb3a91e-8aac-433f-94d6-bb8560e261e7",
   "metadata": {},
   "outputs": [],
   "source": [
    "class Point(x: Int, y: Int)\n",
    "val point = new Point(1, 2)"
   ]
  },
  {
   "cell_type": "markdown",
   "id": "63a0e46c-22fc-4451-a0fb-f56f9dd4026b",
   "metadata": {},
   "source": [
    "Nous ne pouvons pas accéder à cette variable parcequ'il est private"
   ]
  },
  {
   "cell_type": "code",
   "execution_count": null,
   "id": "f8df2849-3fb9-4088-a7f4-2a4145be5b59",
   "metadata": {},
   "outputs": [],
   "source": [
    "point.x"
   ]
  },
  {
   "cell_type": "markdown",
   "id": "71e1c89c-a378-4373-99e8-a7c74f427ec7",
   "metadata": {},
   "source": [
    "### Classe rationnelle"
   ]
  },
  {
   "cell_type": "code",
   "execution_count": null,
   "id": "f8fed898-65c7-491f-9dbf-dddd2979561c",
   "metadata": {},
   "outputs": [],
   "source": [
    "class Rational(x: Int, y : Int){\n",
    "     \n",
    "    require(y!=0, \"Denominator must be nonzero\")\n",
    "    // Definition d'un constructur à partir du premier constructeur\n",
    "    \n",
    "    def this(x: Int) = this(x,1)\n",
    "    \n",
    "    // cacul du pgcd de deux nombre\n",
    "    private  def gcd(a:Int, b: Int): Int = if (b==0) a else gcd(b, a%b)\n",
    "    \n",
    "    val g =gcd(x,y)\n",
    "  \n",
    "    def numer = x / g\n",
    "    \n",
    "    def denom = y / g\n",
    "\n",
    "    def + (that : Rational) = new Rational(numer * that.denom + denom * that.numer,\n",
    "          denom * that.denom)\n",
    "  \n",
    "    def unary_- : Rational = new Rational(-numer, denom)\n",
    "    \n",
    "    def - (that: Rational) = this + -that\n",
    "    \n",
    "    def < (that: Rational) = this.numer * that.denom < that.numer * this.denom\n",
    "    \n",
    "    def > (that: Rational) = that < this\n",
    "    \n",
    "    def <= (that: Rational) = (this < that) || (this == that)\n",
    "    \n",
    "    def >= (that: Rational) = (this > that) || (this == that)\n",
    "  \n",
    "    def max(that : Rational) = if(this < that) that else this\n",
    "    \n",
    "    \n",
    "    override def toString: String = x + \"/\" + y\n",
    "}"
   ]
  },
  {
   "cell_type": "code",
   "execution_count": null,
   "id": "f29042d3-e43b-46ae-b162-ce977d69ce4f",
   "metadata": {},
   "outputs": [],
   "source": [
    "val a = new Rational(2)"
   ]
  },
  {
   "cell_type": "code",
   "execution_count": null,
   "id": "6dc4e944-d521-4a21-bdf6-e7722307dc3c",
   "metadata": {},
   "outputs": [],
   "source": [
    "val r = new Rational(1, 2)\n",
    "val q = new Rational (2,3)\n",
    "val z = new Rational(7, 8)"
   ]
  },
  {
   "cell_type": "code",
   "execution_count": null,
   "id": "9dd16d7e-5817-4005-88aa-652de25ab396",
   "metadata": {},
   "outputs": [],
   "source": [
    "q + r"
   ]
  },
  {
   "cell_type": "code",
   "execution_count": null,
   "id": "e04f7ea6-1457-490a-a9f3-60b7354a3133",
   "metadata": {},
   "outputs": [],
   "source": [
    "z - r - q // z.-(r.-(q))"
   ]
  },
  {
   "cell_type": "code",
   "execution_count": null,
   "id": "5eda4949-b47d-4a59-9899-1ea1a821fb10",
   "metadata": {},
   "outputs": [],
   "source": [
    "val b = z - q + r"
   ]
  },
  {
   "cell_type": "code",
   "execution_count": null,
   "id": "4d34ae15-057a-4bc8-9742-87fa05a802ba",
   "metadata": {},
   "outputs": [],
   "source": [
    "r.max(q)"
   ]
  },
  {
   "cell_type": "markdown",
   "id": "65e80a53-3d24-4532-94a3-de9d01227da6",
   "metadata": {},
   "source": []
  },
  {
   "cell_type": "markdown",
   "id": "36b04c27-ca69-42e5-a063-feab5bb3a7fc",
   "metadata": {},
   "source": [
    "## Exercice 1 (A Rendre)\n",
    "\n",
    "S'inspirer vous de la classe Rationnel pour définir une classe Vecteur2D en sursargeant les operateurs :  \n",
    " * \\+ : pour faire la somme de deux vecteurs \n",
    " * \\- : pour faire la soustraction de deux vecteurs\n",
    " * \\* : le produit scalaire de deux vecteurs \n",
    " * == pour verifier l'ègalité de deux vecteurs  \n",
    " \n",
    "En definissant les methodes :  \n",
    " * norm : pour calculer la norme d'un vecteur\n",
    " * dist : pour calculer la distance entre deux vecteur\n",
    " "
   ]
  },
  {
   "cell_type": "markdown",
   "id": "e629617f-726f-4589-a016-4538b264e296",
   "metadata": {},
   "source": [
    "### case class"
   ]
  },
  {
   "cell_type": "markdown",
   "id": "dbef4ec9-f72e-4718-8703-2e10f9ded219",
   "metadata": {},
   "source": [
    "**case class** est utilisé pour representé souvent des structures de données complexes."
   ]
  },
  {
   "cell_type": "code",
   "execution_count": null,
   "id": "ad3867ba-3e5d-451d-8b35-96882b684545",
   "metadata": {},
   "outputs": [],
   "source": [
    "case class Book(title : String, authors :String, isbn: String)\n",
    "val livre = Book(\"Une Si Longue Lettre\",\"Mariama Ba\", \"2842612892\")"
   ]
  },
  {
   "cell_type": "code",
   "execution_count": null,
   "id": "915436c6-dd44-483e-9dd8-b9b70d7aea1f",
   "metadata": {},
   "outputs": [],
   "source": [
    "livre.title"
   ]
  },
  {
   "cell_type": "code",
   "execution_count": null,
   "id": "92ecb588-055e-4608-bb7e-cbbf6f6fac53",
   "metadata": {},
   "outputs": [],
   "source": [
    "case class Message(sender: String, recipient: String, body: String)\n",
    "val message1 = Message(\"guillaume@quebec.ca\", \"jorge@catalonia.es\", \"Ca va ?\")\n",
    "\n",
    "println(message1.sender)  "
   ]
  },
  {
   "cell_type": "code",
   "execution_count": null,
   "id": "90d6c70f-e5d3-406e-8c77-59e6364b1fec",
   "metadata": {},
   "outputs": [],
   "source": [
    "message1.sender = \"travis@washington.us\" //unmutable"
   ]
  },
  {
   "cell_type": "code",
   "execution_count": null,
   "id": "26b3c012-7ed2-4998-b4ae-55d4562fa920",
   "metadata": {},
   "outputs": [],
   "source": [
    "val message2 = Message(\"jorge@catalonia.es\", \"guillaume@quebec.ca\", \"Com va?\")\n",
    "val message3 = Message(\"jorge@catalonia.es\", \"guillaume@quebec.ca\", \"Com va?\")\n",
    "message2 == message3"
   ]
  },
  {
   "cell_type": "markdown",
   "id": "def5955f-c9af-4e7b-85fd-06801dadcda1",
   "metadata": {},
   "source": [
    "### Object singleton instance\n",
    "\n",
    "Object est une classe qui a exactement une instance. Il est créé           paresseusement lorsqu'il est référencé, comme un lazy val.\n",
    "\n",
    "En tant que valeur de niveau supérieur, un objet est un singleton.\n",
    "\n",
    "En tant que membre d'une classe englobante ou en tant que valeur locale, il se comporte exactement comme un lazy val."
   ]
  },
  {
   "cell_type": "code",
   "execution_count": 63,
   "id": "d12b9801-8db8-4e6b-ab33-8f1ce6b776a4",
   "metadata": {},
   "outputs": [
    {
     "data": {
      "text/plain": [
       "defined \u001b[32mobject\u001b[39m \u001b[36mBox\u001b[39m"
      ]
     },
     "execution_count": 63,
     "metadata": {},
     "output_type": "execute_result"
    }
   ],
   "source": [
    "object Box"
   ]
  },
  {
   "cell_type": "markdown",
   "id": "d4e96709-c63b-4a50-83f4-5471bc766d18",
   "metadata": {},
   "source": [
    "Definition de la classe Logger dans le package logging"
   ]
  },
  {
   "cell_type": "raw",
   "id": "5e0ec125-b475-4eac-b731-d4816deb3180",
   "metadata": {},
   "source": [
    "package logging\n",
    "\n",
    "object Logger {\n",
    "  def info(message: String): Unit = println(s\"INFO: $message\")\n",
    "}"
   ]
  },
  {
   "cell_type": "markdown",
   "id": "841452fa-23b8-47b8-ab8b-c2a4100cf9d0",
   "metadata": {},
   "source": [
    "La méthode `info` peut être importée dans n'importe quel programme. La création de méthodes utilitaires comme celle-ci est un cas d'utilisation courant pour les objets singleton."
   ]
  },
  {
   "cell_type": "raw",
   "id": "a4f8f231-fbcf-42df-ab00-5c6d2247718d",
   "metadata": {},
   "source": [
    "import logging.Logger.info\n",
    "\n",
    "class Project(name: String, daysToComplete: Int)\n",
    "\n",
    "class Test {\n",
    "      val project1 = new Project(\"TPS Reports\", 1)\n",
    "      val project2 = new Project(\"Website redesign\", 5)\n",
    "  info(\"Created projects\")  // Prints \"INFO: Created projects\"\n",
    "}"
   ]
  },
  {
   "cell_type": "markdown",
   "id": "89056ae1-4d3e-4a2a-a5ec-f995869952b5",
   "metadata": {},
   "source": [
    "Le singleton object est utilisé comme d'entrée d'un programme scala"
   ]
  },
  {
   "cell_type": "code",
   "execution_count": null,
   "id": "f6582176-4ca0-4fa0-9685-b95b4cd95998",
   "metadata": {},
   "outputs": [],
   "source": [
    "object Hello {\n",
    "    def main(args: Array[String]) = {\n",
    "        println(\"Hello, world\")\n",
    "    }\n",
    "}"
   ]
  },
  {
   "cell_type": "markdown",
   "id": "e140d1f8-06b5-403e-968d-29b4e2f58087",
   "metadata": {},
   "source": [
    "### Heritage\n",
    "\n",
    "L’héritage est un concept fondamental des languages Orientées Objets qui permet de réutiliser du code de la classe mère.\n",
    "\n",
    "Le polymorphisme permet de \"surcharger\" les méthodes de la classe mère pour redéfinir leurs comportements sans changer leur signature."
   ]
  },
  {
   "cell_type": "code",
   "execution_count": null,
   "id": "a04bdf46-9bb4-4efb-bb85-a938c7d2c620",
   "metadata": {},
   "outputs": [],
   "source": [
    "class Animal (var name: String, var age: Int) {\n",
    "    // (2) auxiliary constructor\n",
    "    def this (name: String) {\n",
    "        this(name, 0) //appel du constructeur par defaut\n",
    "    }\n",
    "    \n",
    "    override def toString = s\"$name is $age years old\"\n",
    "}"
   ]
  },
  {
   "cell_type": "code",
   "execution_count": null,
   "id": "1876b4b9-51cd-4518-9c9a-ee973b3d454d",
   "metadata": {},
   "outputs": [],
   "source": [
    "class Dog (name: String) extends Animal (name) {\n",
    "    println(\"Dog constructor called\")\n",
    "}"
   ]
  },
  {
   "cell_type": "code",
   "execution_count": null,
   "id": "eb4d02fe-4f7c-4645-83f7-959090a274bb",
   "metadata": {},
   "outputs": [],
   "source": [
    "class Cat (name: String) extends Animal (name) {\n",
    "    println(\"Cat constructor called\")\n",
    "}"
   ]
  },
  {
   "cell_type": "code",
   "execution_count": null,
   "id": "f724ea9f-b17e-48b8-8c33-663fb01ea130",
   "metadata": {},
   "outputs": [],
   "source": [
    "val an = new Animal(\"Bobby\", 2) "
   ]
  },
  {
   "cell_type": "code",
   "execution_count": null,
   "id": "6ffaa32e-937c-4aa0-b996-ff30ce374cdd",
   "metadata": {},
   "outputs": [],
   "source": [
    "val dog = new Dog(\"Bobby\")"
   ]
  },
  {
   "cell_type": "code",
   "execution_count": null,
   "id": "b441dfa4-09aa-4651-88a5-e05aa2653d32",
   "metadata": {},
   "outputs": [],
   "source": [
    "val cat = new Cat(\"Chat\")"
   ]
  },
  {
   "cell_type": "markdown",
   "id": "fef8162b-a034-44ba-abc6-b8d58e4b7132",
   "metadata": {},
   "source": [
    "### Traits\n",
    "\n",
    "Trait est très similaire à la notion d'interface dans Java, à la seul difference qu'il peut contenir des methods concrètes."
   ]
  },
  {
   "cell_type": "code",
   "execution_count": null,
   "id": "eb4002db-483b-486a-96cf-6a7b6f650c1a",
   "metadata": {},
   "outputs": [],
   "source": [
    "trait Figure{\n",
    "    //def dessiner()\n",
    "    def calculerPerimetre() : Double\n",
    "    def CalculerSurface() : Double\n",
    "}"
   ]
  },
  {
   "cell_type": "code",
   "execution_count": null,
   "id": "a642d034-c266-46ea-bde2-1824a3b9fb75",
   "metadata": {},
   "outputs": [],
   "source": [
    "class Rectangle (var longueur : Double, var largeur : Double) extends Figure {\n",
    "    \n",
    "    def calculerPerimetre() = (longueur + largeur)*2\n",
    "    def CalculerSurface() = longueur*largeur\n",
    "}"
   ]
  },
  {
   "cell_type": "code",
   "execution_count": null,
   "id": "a6f2cc85-b782-460c-8566-107bbede1c49",
   "metadata": {},
   "outputs": [],
   "source": [
    "val r = new Rectangle(2.0, 5.0)"
   ]
  },
  {
   "cell_type": "code",
   "execution_count": null,
   "id": "49f95e60-bca6-4214-babb-0e3e14207e27",
   "metadata": {},
   "outputs": [],
   "source": [
    "r.calculerPerimetre()"
   ]
  },
  {
   "cell_type": "markdown",
   "id": "3302dea1-9ec6-44a7-bc72-fcb0b2c22873",
   "metadata": {},
   "source": [
    "Definissons un iterateur à partir de Trait générique"
   ]
  },
  {
   "cell_type": "code",
   "execution_count": null,
   "id": "48ba2aa3-e0b5-404e-ad35-467ea6d3f15f",
   "metadata": {},
   "outputs": [],
   "source": [
    "trait Iterator[A] {\n",
    "  def hasNext: Boolean\n",
    "  def next(): A\n",
    "}"
   ]
  },
  {
   "cell_type": "markdown",
   "id": "71dc6913-acbf-4aeb-9992-4cc9498c5635",
   "metadata": {},
   "source": [
    "Un iterateur d'entier à partir du Trait Iterator"
   ]
  },
  {
   "cell_type": "code",
   "execution_count": null,
   "id": "5c31c226-45d5-4a98-962f-2930d5576a6f",
   "metadata": {},
   "outputs": [],
   "source": [
    "class IntIterator(to: Int) extends Iterator[Int] {\n",
    "  private var current = 0\n",
    "  override def hasNext: Boolean = current < to\n",
    "  override def next(): Int = {\n",
    "    if (hasNext) {\n",
    "      val t = current\n",
    "      current += 1\n",
    "      t\n",
    "    } else 0\n",
    "  }\n",
    "}"
   ]
  },
  {
   "cell_type": "code",
   "execution_count": null,
   "id": "1a970997-84be-4b2a-9877-a9b7347ff285",
   "metadata": {},
   "outputs": [],
   "source": [
    "val iterator = new IntIterator(10)\n",
    "iterator.next()"
   ]
  },
  {
   "cell_type": "code",
   "execution_count": null,
   "id": "48ea3c18-b3c8-425b-a10d-d8790d7541bc",
   "metadata": {},
   "outputs": [],
   "source": [
    "iterator.next()  "
   ]
  },
  {
   "cell_type": "code",
   "execution_count": null,
   "id": "55cdfc2d-e2ec-43ed-9f00-74ba36259abe",
   "metadata": {},
   "outputs": [],
   "source": [
    "iterator.next()  "
   ]
  },
  {
   "cell_type": "code",
   "execution_count": null,
   "id": "3186584f-4229-4f0d-8d69-4955d0162e14",
   "metadata": {},
   "outputs": [],
   "source": [
    "iterator.hasNext"
   ]
  },
  {
   "cell_type": "markdown",
   "id": "e4f3a237-df5c-4675-a44f-9b73cfcd94a9",
   "metadata": {},
   "source": [
    "Une autre definition d'une Figure rectangulaire en considèrant les points d'intersection des ses cotés"
   ]
  },
  {
   "cell_type": "code",
   "execution_count": null,
   "id": "7b9033f9-b2bf-42f2-b455-22e1e2619918",
   "metadata": {},
   "outputs": [],
   "source": [
    "class Point(val x: Int, val y: Int)\n",
    "\n",
    "trait Rectangular {\n",
    "    def topLeft: Point\n",
    "    def bottomRight: Point\n",
    "    def left = topLeft.x\n",
    "    def right = bottomRight.x\n",
    "    def width = right - left\n",
    "    // autres methodes ...\n",
    "}"
   ]
  },
  {
   "cell_type": "code",
   "execution_count": null,
   "id": "ad20dfc0-f7e8-4af6-96e4-8c9eed0989d0",
   "metadata": {},
   "outputs": [],
   "source": [
    "class Rectangle(val topLeft: Point, val bottomRight: Point) extends Rectangular {\n",
    "    // autres methods\n",
    "}"
   ]
  },
  {
   "cell_type": "code",
   "execution_count": null,
   "id": "4a4b5f81-7c20-45da-b662-6cb6afa0929b",
   "metadata": {},
   "outputs": [],
   "source": [
    "val rect = new Rectangle(new Point(1, 1), new Point(10, 10))"
   ]
  },
  {
   "cell_type": "code",
   "execution_count": null,
   "id": "e025a5e7-87c7-4a1a-8cd8-cd36b03a0fd2",
   "metadata": {},
   "outputs": [],
   "source": [
    "rect.left"
   ]
  },
  {
   "cell_type": "code",
   "execution_count": null,
   "id": "7022d640-b617-4d3a-b291-6fc01e8aa390",
   "metadata": {},
   "outputs": [],
   "source": [
    "rect.right"
   ]
  },
  {
   "cell_type": "code",
   "execution_count": null,
   "id": "4a9e1076-321d-4c44-a0b5-3e14c095db25",
   "metadata": {},
   "outputs": [],
   "source": [
    "rect.width"
   ]
  },
  {
   "cell_type": "markdown",
   "id": "bb4b9fac-5f0d-4222-b69e-4cf392708853",
   "metadata": {},
   "source": [
    "### Abstract class"
   ]
  },
  {
   "cell_type": "markdown",
   "id": "06d940d0-b445-40ab-aeb2-cad3442c781d",
   "metadata": {},
   "source": [
    "Scala a également un concept de **classe abstraite** similaire à la classe abstraite de Java. Mais comme les traits sont si puissants, vous avez rarement besoin d'utiliser une classe abstraite. En fait, vous n'avez besoin d'utiliser une classe abstraite que lorsque:\n",
    "\n",
    "* Vous souhaitez créer une classe de base qui nécessite des arguments de constructeur\n",
    "* Votre code Scala sera appelé à partir du code Java"
   ]
  },
  {
   "cell_type": "code",
   "execution_count": null,
   "id": "15d289ba-8639-4269-baaa-ccd911723a49",
   "metadata": {},
   "outputs": [],
   "source": [
    "abstract class Pet (name: String) {\n",
    "    val greeting: String\n",
    "    \n",
    "    var age: Int\n",
    "    \n",
    "    def sayHello { \n",
    "        println(greeting) \n",
    "    }\n",
    "    override def toString = s\"I say $greeting, and I'm $age\"\n",
    "}"
   ]
  },
  {
   "cell_type": "code",
   "execution_count": null,
   "id": "e453060f-5c4d-4649-8e49-0515aef8f32b",
   "metadata": {},
   "outputs": [],
   "source": [
    "class Dog (name: String) extends Pet (name) {\n",
    "    val greeting = \"Woof\"\n",
    "    var age = 2\n",
    "}\n",
    "class Cat (name: String) extends Pet (name) {\n",
    "    val greeting = \"Meow\"\n",
    "    var age = 5\n",
    "}"
   ]
  },
  {
   "cell_type": "code",
   "execution_count": null,
   "id": "380f2942-3409-4290-971e-1e7dd4fdad23",
   "metadata": {},
   "outputs": [],
   "source": [
    "val dog = new Dog(\"Fido\")\n",
    "\n",
    "val cat = new Cat(\"Morris\")\n",
    "\n",
    "dog.sayHello\n",
    "\n",
    "cat.sayHello\n",
    "    "
   ]
  },
  {
   "cell_type": "code",
   "execution_count": null,
   "id": "2b2eccd9-cf2d-49ba-8b06-98e5a4d1a392",
   "metadata": {},
   "outputs": [],
   "source": [
    "println(dog)\n",
    "\n",
    "println(cat)\n",
    "\n",
    "cat.age = 10\n",
    "\n",
    "println(cat)"
   ]
  },
  {
   "cell_type": "markdown",
   "id": "1847472b-4991-4822-a0b3-beee83899845",
   "metadata": {},
   "source": [
    "### Exemple"
   ]
  },
  {
   "cell_type": "markdown",
   "id": "52d230d6-a8fe-4899-a05b-abb4f1974b19",
   "metadata": {},
   "source": [
    "Definition d'un ensemble d'entier à partir de ces propriétés"
   ]
  },
  {
   "cell_type": "code",
   "execution_count": null,
   "id": "b7cfba6c-2971-48f8-a9c3-3b5c2d7b728c",
   "metadata": {},
   "outputs": [],
   "source": [
    "abstract class IntSet {\n",
    "    \n",
    "  def contains(x : Int) : Boolean\n",
    "    \n",
    "  def incl(x: Int) : IntSet\n",
    "    \n",
    "  def union(other : IntSet) : IntSet\n",
    "}"
   ]
  },
  {
   "cell_type": "code",
   "execution_count": null,
   "id": "e9c0b0e4-6abc-429c-a468-293f8bdfe9f3",
   "metadata": {},
   "outputs": [],
   "source": [
    "class NonEmpty (elem: Int, left: IntSet,\n",
    "                right: IntSet ) extends IntSet {\n",
    "    \n",
    "  def contains(x: Int): Boolean =\n",
    "        if (x < elem) left contains x\n",
    "        else if (x > elem) right contains x\n",
    "        else true\n",
    "\n",
    "  def incl(x: Int): IntSet =\n",
    "        if(x < elem) new NonEmpty(elem, left incl x,  right)\n",
    "        else if (x > elem) new NonEmpty(elem, left, right incl x )\n",
    "        else this\n",
    "\n",
    "  override def union(other: IntSet): IntSet =\n",
    "    ((left union right) union other) incl elem\n",
    "  \n",
    "  override def toString: String =\n",
    "    \"{\" + left + elem + right + \"}\"\n",
    "}"
   ]
  },
  {
   "cell_type": "code",
   "execution_count": null,
   "id": "b8098209-5b99-4c5b-9c42-f141d5857060",
   "metadata": {},
   "outputs": [],
   "source": [
    "class Empty extends IntSet  {\n",
    "    \n",
    "  def contains(x :Int) : Boolean= false\n",
    "    \n",
    "  def incl(x: Int) : IntSet = new NonEmpty (x, new Empty, new Empty)\n",
    "    \n",
    "  def union(other : IntSet) = other\n",
    "    \n",
    "  override def toString: String = \".\"\n",
    "    \n",
    "}"
   ]
  },
  {
   "cell_type": "code",
   "execution_count": null,
   "id": "d58b4a25-8638-482c-8082-7065c5bc82f2",
   "metadata": {},
   "outputs": [],
   "source": [
    "val t1  = new NonEmpty(1, new Empty, new Empty)"
   ]
  },
  {
   "cell_type": "code",
   "execution_count": null,
   "id": "a419bce0-5075-4831-8f72-aa6df5ad2889",
   "metadata": {},
   "outputs": [],
   "source": [
    "val t2 = t1 incl 3 // t1.incl(3)"
   ]
  },
  {
   "cell_type": "code",
   "execution_count": null,
   "id": "ac969512-2bd6-4b72-9fbb-144b8de8b33d",
   "metadata": {},
   "outputs": [],
   "source": [
    " t2 contains 2 // t2.contains(2)"
   ]
  },
  {
   "cell_type": "code",
   "execution_count": null,
   "id": "e3783b11-d9ca-41d4-9b68-2490436cd807",
   "metadata": {},
   "outputs": [],
   "source": [
    "t2.contains(2)"
   ]
  },
  {
   "cell_type": "code",
   "execution_count": null,
   "id": "4791b1ff-8c95-4682-b20b-cf1d50e8663c",
   "metadata": {},
   "outputs": [],
   "source": [
    "t2 contains 3"
   ]
  },
  {
   "cell_type": "code",
   "execution_count": null,
   "id": "95660868-fc23-4b77-8be5-b04667d25b1e",
   "metadata": {},
   "outputs": [],
   "source": [
    "val t3 = ((t2 incl 9) incl 4) incl 15"
   ]
  },
  {
   "cell_type": "code",
   "execution_count": null,
   "id": "7e11aa36-adf8-41a3-9a9d-72e56fea495d",
   "metadata": {},
   "outputs": [],
   "source": [
    "val t4 = (t1 incl 2) incl 7"
   ]
  },
  {
   "cell_type": "code",
   "execution_count": null,
   "id": "7db5b46f-837f-4677-95e3-d8e14e5abae6",
   "metadata": {},
   "outputs": [],
   "source": [
    "val t5 = t3 union t4"
   ]
  },
  {
   "cell_type": "markdown",
   "id": "43537f7e-7c44-471f-9100-4685494e6f31",
   "metadata": {},
   "source": [
    "## Polymorphysme"
   ]
  },
  {
   "cell_type": "code",
   "execution_count": null,
   "id": "7339c3ea-a349-44a9-9d6b-27d564d11c0e",
   "metadata": {},
   "outputs": [],
   "source": [
    "class Animal"
   ]
  },
  {
   "cell_type": "code",
   "execution_count": null,
   "id": "5d63497e-4cc2-4122-a09f-10daf69f2035",
   "metadata": {},
   "outputs": [],
   "source": [
    "class Dog extends Animal"
   ]
  },
  {
   "cell_type": "code",
   "execution_count": null,
   "id": "c330bb56-1abe-45e9-9459-95dfc839c7a7",
   "metadata": {},
   "outputs": [],
   "source": [
    "val aDog: Animal = new Dog // subtyping polymorphism"
   ]
  },
  {
   "cell_type": "code",
   "execution_count": null,
   "id": "cd963482-0f8a-48f7-a67f-7f1409aff0b7",
   "metadata": {},
   "outputs": [],
   "source": [
    "trait Carnivore {\n",
    "    def eat(a: Animal): Unit\n",
    "}"
   ]
  },
  {
   "cell_type": "code",
   "execution_count": null,
   "id": "6b9d7350-6343-4988-8af3-7b0a21f4b617",
   "metadata": {},
   "outputs": [],
   "source": [
    "class Crocodile extends Animal with Carnivore {\n",
    "    override def eat(a: Animal): Unit = println(\"crunch!\")\n",
    "  }"
   ]
  },
  {
   "cell_type": "code",
   "execution_count": null,
   "id": "9dfadcb8-31a6-4776-a7b1-014b6b19620d",
   "metadata": {},
   "outputs": [],
   "source": [
    "val aCroc = new Crocodile"
   ]
  },
  {
   "cell_type": "code",
   "execution_count": null,
   "id": "ed543a0f-598a-401b-ba11-d96349360f7e",
   "metadata": {},
   "outputs": [],
   "source": [
    "aCroc.eat(aDog)"
   ]
  },
  {
   "cell_type": "code",
   "execution_count": null,
   "id": "f78ddc3e-3c73-42b9-9a8b-29bd7fd3bdb3",
   "metadata": {},
   "outputs": [],
   "source": [
    "aCroc eat aDog // natural language"
   ]
  },
  {
   "cell_type": "markdown",
   "id": "938edc12-62e1-46cf-a9af-404922ea2508",
   "metadata": {},
   "source": [
    "### Classe générique"
   ]
  },
  {
   "cell_type": "code",
   "execution_count": null,
   "id": "70de3bf2-79e3-49b3-8f8c-8d97ff5dd101",
   "metadata": {},
   "outputs": [],
   "source": []
  },
  {
   "cell_type": "code",
   "execution_count": null,
   "id": "d51ae9d8-4457-42c8-9802-ef94a21a4df4",
   "metadata": {},
   "outputs": [],
   "source": [
    "abstract class Set[A] {\n",
    "    \n",
    "  def incl(a: A): Set[A]\n",
    "  def contains(a: A): Boolean\n",
    "    \n",
    "  def union(other : A) : A\n",
    "  def intersect(other : A) : A\n",
    "  def diff(other : A) : A\n",
    "    \n",
    "}\n",
    "\n",
    "class Empty[A] extends Set[A] {\n",
    "  //…\n",
    "}\n",
    "\n",
    "class NonEmpty[A](elem: A, left: Set[A], right: Set[A]) extends Set[A] {\n",
    "  //…\n",
    "}"
   ]
  },
  {
   "cell_type": "markdown",
   "id": "1ad45a14-c118-45f0-aa0d-ea994894ee1e",
   "metadata": {},
   "source": [
    "### Exercice 2 (A Rendre)\n",
    "\n",
    "Reprendre les methodes de la classe Intset dans la classe générique."
   ]
  },
  {
   "cell_type": "markdown",
   "id": "2bae663b-bf69-4a8f-84d1-66e4eaef721d",
   "metadata": {},
   "source": [
    "### Package "
   ]
  },
  {
   "cell_type": "markdown",
   "id": "d65d15ee-5d08-40d3-8e22-02a313574d65",
   "metadata": {},
   "source": [
    "**Importer les classes d'un package Scala**  \n",
    "L'importation des classes en Scala est très similaire à celle de Java."
   ]
  },
  {
   "cell_type": "markdown",
   "id": "6cdac118-a653-4ef4-b864-00615224d195",
   "metadata": {},
   "source": [
    "Supposons qu'on a un package qui contient les classes Animal, Personne, Voiture."
   ]
  },
  {
   "cell_type": "raw",
   "id": "b2f07d7c-9324-4a92-a427-093028f860f4",
   "metadata": {},
   "source": [
    "import com.projectName.scala.Animal\n",
    "import com.projectName.scala.{Animal, Personne, Voiture}\n",
    "import com.projectName.scala._  //_ permet d'importer tous les classes "
   ]
  },
  {
   "cell_type": "markdown",
   "id": "e1b9f852-a312-4a82-accc-805287d89896",
   "metadata": {},
   "source": [
    "**Importation des classes Java**"
   ]
  },
  {
   "cell_type": "raw",
   "id": "9d9bdbba-10ab-4c2b-a7bc-0f4f41c952da",
   "metadata": {},
   "source": [
    "import java.io._\n",
    "import java.io.{File, IOException, FileNotFoundException}\n",
    "import java.io.File\n",
    "import java.io.FileNotFoundException"
   ]
  },
  {
   "cell_type": "markdown",
   "id": "9e80f0ea-4c94-43b8-b2bb-8b11ea773724",
   "metadata": {},
   "source": [
    "Aliasing pour éviter le conflit des noms"
   ]
  },
  {
   "cell_type": "code",
   "execution_count": null,
   "id": "5a3fa656-41b9-41e9-b18f-d6955034fa1e",
   "metadata": {},
   "outputs": [],
   "source": [
    "import java.util.{Date => utilDate}\n",
    "import java.sql.{Date => sqlDate}"
   ]
  },
  {
   "cell_type": "code",
   "execution_count": null,
   "id": "49f853e6-e56f-4337-aa7b-746a73ee9ce4",
   "metadata": {},
   "outputs": [],
   "source": [
    "def run(): Unit = {\n",
    "              val dt: utilDate = new utilDate()\n",
    "              val dtSql: sqlDate = new sqlDate(System.currentTimeMillis())\n",
    "              println(s\"Today is $dt !\")\n",
    "              println(s\"Today is $dtSql !\")\n",
    "}"
   ]
  },
  {
   "cell_type": "code",
   "execution_count": null,
   "id": "7f156a78-8cc3-4500-9b26-8310d44a97eb",
   "metadata": {},
   "outputs": [],
   "source": [
    "run()"
   ]
  },
  {
   "cell_type": "markdown",
   "id": "b77be13d-a3f7-47df-aceb-6dbf51ea392f",
   "metadata": {},
   "source": [
    "#### Creation de Package  package "
   ]
  },
  {
   "cell_type": "raw",
   "id": "3682c8ae-65e7-4cb0-8bf1-71dfcf90ef10",
   "metadata": {},
   "source": [
    "packages// package com.exo \n",
    "\n",
    "class Test {\n",
    "    override def toString = \"Je suis dans le com.exo\"\n",
    "}"
   ]
  },
  {
   "cell_type": "raw",
   "id": "6d424dd6-711a-4daa-8c43-281b932e9dcd",
   "metadata": {},
   "source": [
    "\n",
    "package singlePack {\n",
    "    class Test { \n",
    "        override def toString = \"I am SinglePack.Test\" \n",
    "    }\n",
    "}"
   ]
  },
  {
   "cell_type": "raw",
   "id": "ec67359f-bbe6-4603-907d-0976d09cdce4",
   "metadata": {},
   "source": [
    "package com.automobile.scala\n",
    "\n",
    "package object packageimport {\n",
    "  trait Motor {\n",
    "    val dieselMessage: String = \"Je roule avec du Diesel, \"\n",
    "    val noDieselMessage: String = \"Pas de Diesel, je suis plus confortable\"\n",
    "  }\n",
    "}"
   ]
  },
  {
   "cell_type": "code",
   "execution_count": null,
   "id": "ffa14cca-bded-4ab6-96d0-9158905da77c",
   "metadata": {},
   "outputs": [],
   "source": [
    "// Demo IntelliJ"
   ]
  },
  {
   "cell_type": "markdown",
   "id": "310bae93-ea1d-4f4b-b315-43d557cee0a4",
   "metadata": {},
   "source": [
    "### Interoperabilité avec Java"
   ]
  },
  {
   "cell_type": "code",
   "execution_count": null,
   "id": "5642ab9b-22fe-4cd3-a13b-0a3cef717155",
   "metadata": {},
   "outputs": [],
   "source": [
    "//... Voir Documentation"
   ]
  },
  {
   "cell_type": "markdown",
   "id": "75649927-4e90-4431-9ed1-56abd51b116c",
   "metadata": {},
   "source": [
    "### Travail à faire\n",
    "Faire les exercices 1 et 2 de ce notebook en sous la forme chap2_execice1.scala et chap2_execice1.scala.\n",
    "  \n",
    "N'oublier pas de zipper en mettant votre_nom_master.zip sur le mail ci-dessous :\n"
   ]
  },
  {
   "cell_type": "markdown",
   "id": "55fbbd8b-a5a0-43e0-9d65-0d1a4804cf37",
   "metadata": {},
   "source": [
    "mboupdjibril.m2itic@gmail.com"
   ]
  },
  {
   "cell_type": "markdown",
   "id": "a4453576-93f4-4fc3-987a-67858fc9a3d6",
   "metadata": {},
   "source": [
    "# Scala APIs: String, Collections, Lists, Arrays, Map, Set ..."
   ]
  },
  {
   "cell_type": "markdown",
   "id": "b7514b68-a895-4795-b4c8-77ec395431ab",
   "metadata": {},
   "source": [
    "Scala possede un ensemble de structures et d'API permettant de manipuler et de traiter les données. "
   ]
  },
  {
   "cell_type": "markdown",
   "id": "15a9d201-d15b-41cf-8e28-588078203300",
   "metadata": {},
   "source": [
    "### Types "
   ]
  },
  {
   "cell_type": "markdown",
   "id": "e0f12778-e5ea-4ee4-9905-517afc8e65ef",
   "metadata": {},
   "source": [
    "![](images/types.svg)"
   ]
  },
  {
   "cell_type": "markdown",
   "id": "ad5483b2-ae1e-4008-942e-d0a485b25267",
   "metadata": {},
   "source": [
    "**Any** est le super-type. Il defini par défaut un ensemble de methodes : equals, hashCode, and toString.\n",
    "Il a deux principales sous-classes: AnyVal et AnyRef.\n",
    "* AnyVal :\n",
    "* AnyRef :"
   ]
  },
  {
   "cell_type": "markdown",
   "id": "697a0714-d5b7-4d64-bf53-98c1daf7ab6d",
   "metadata": {},
   "source": [
    "### Casting"
   ]
  },
  {
   "cell_type": "markdown",
   "id": "0af03623-2ac3-4a62-8a10-5f4cb0a18043",
   "metadata": {},
   "source": [
    "![](images/casting.svg)"
   ]
  },
  {
   "cell_type": "markdown",
   "id": "86c9320e-17f1-438f-b156-0f7b53d54dc7",
   "metadata": {},
   "source": [
    "### La classe String"
   ]
  },
  {
   "cell_type": "code",
   "execution_count": null,
   "id": "a93b91c5-70ca-4421-9c12-045f2d6ae575",
   "metadata": {},
   "outputs": [],
   "source": [
    "//Obtenir le nom de la classe\n",
    "\"Hello, world\".getClass.getName"
   ]
  },
  {
   "cell_type": "code",
   "execution_count": null,
   "id": "297fa63d-9486-499f-9c6c-0486175b57fe",
   "metadata": {},
   "outputs": [],
   "source": [
    "\"hello\".foreach(println)"
   ]
  },
  {
   "cell_type": "code",
   "execution_count": null,
   "id": "17ff10e9-00c8-406f-913f-36ce7c04ad6e",
   "metadata": {},
   "outputs": [],
   "source": [
    "// concatenation\n",
    "val s = \"Hello\" + \" world\" "
   ]
  },
  {
   "cell_type": "code",
   "execution_count": null,
   "id": "8a3dce91-bdc8-4898-b6eb-beea7896747f",
   "metadata": {},
   "outputs": [],
   "source": [
    "//longueur d'une chaine de caractère\n",
    "s.length"
   ]
  },
  {
   "cell_type": "markdown",
   "id": "79f985db-17c0-499d-b9e6-a883f3273262",
   "metadata": {},
   "source": [
    "Filtrer un caractère "
   ]
  },
  {
   "cell_type": "code",
   "execution_count": null,
   "id": "3a30a12b-9ebf-4c05-b15a-c90aa04a543b",
   "metadata": {},
   "outputs": [],
   "source": [
    "val result = s.filter(_ != 'l')\n",
    "// est equivalent à s.filter(x  => x != 'l') "
   ]
  },
  {
   "cell_type": "code",
   "execution_count": null,
   "id": "b42ccc42-7e99-449b-92d1-0be745ad1fc4",
   "metadata": {},
   "outputs": [],
   "source": [
    "result"
   ]
  },
  {
   "cell_type": "code",
   "execution_count": null,
   "id": "684fe66c-c753-434c-9fff-55e1acbd1bb2",
   "metadata": {},
   "outputs": [],
   "source": [
    "\"bonjour\".capitalize"
   ]
  },
  {
   "cell_type": "code",
   "execution_count": null,
   "id": "bf8f57e2-c63d-4199-8d03-1db44c262f4a",
   "metadata": {},
   "outputs": [],
   "source": [
    "\"bonjour\".take(2).capitalize"
   ]
  },
  {
   "cell_type": "code",
   "execution_count": null,
   "id": "16cb448b-28d8-49cb-9a3f-1c97098e8690",
   "metadata": {},
   "outputs": [],
   "source": [
    "\"bonjour\".drop(3).take(2).capitalize"
   ]
  },
  {
   "cell_type": "code",
   "execution_count": null,
   "id": "390421eb-f345-48df-8c22-f3949d94a2dc",
   "metadata": {},
   "outputs": [],
   "source": [
    "\"bonjour\" drop(3) take(2) "
   ]
  },
  {
   "cell_type": "code",
   "execution_count": null,
   "id": "1808adb3-a318-4664-adf4-839c4a88ad2e",
   "metadata": {},
   "outputs": [],
   "source": [
    "val s = \"salut\"\n",
    "s.toUpperCase"
   ]
  },
  {
   "cell_type": "code",
   "execution_count": null,
   "id": "5eab8ae5-ff33-4d83-b7e5-caedd4991e40",
   "metadata": {},
   "outputs": [],
   "source": [
    "val s1 = \"hello\"\n",
    "val s2 = \"Hello\""
   ]
  },
  {
   "cell_type": "code",
   "execution_count": null,
   "id": "66659b51-b037-4c3f-a99a-86e647f7cb46",
   "metadata": {},
   "outputs": [],
   "source": [
    "s1 == s2"
   ]
  },
  {
   "cell_type": "code",
   "execution_count": null,
   "id": "cfdf9087-7720-41d4-a220-5aca837acdc0",
   "metadata": {},
   "outputs": [],
   "source": [
    "s1.toUpperCase == s2.toUpperCase"
   ]
  },
  {
   "cell_type": "code",
   "execution_count": null,
   "id": "dbd18ebf-9486-4ae0-9939-2c2d3af4cc7c",
   "metadata": {},
   "outputs": [],
   "source": [
    "s1.equalsIgnoreCase(s2)"
   ]
  },
  {
   "cell_type": "code",
   "execution_count": null,
   "id": "e038c677-74e4-4f28-88f1-c7cf39ced2a7",
   "metadata": {},
   "outputs": [],
   "source": [
    "val foo = \"\"\"Ceci est\n",
    "une chaine \n",
    "multiline\"\"\""
   ]
  },
  {
   "cell_type": "code",
   "execution_count": null,
   "id": "2ab63b1d-191b-4a8b-a5fd-25789893f478",
   "metadata": {},
   "outputs": [],
   "source": [
    "val speech = \"\"\"Four score and\n",
    "|seven years ago\"\"\".stripMargin"
   ]
  },
  {
   "cell_type": "code",
   "execution_count": null,
   "id": "1d7490cb-c25c-4990-9073-9a65c4e82342",
   "metadata": {},
   "outputs": [],
   "source": [
    "val speech = \"\"\"Four score and\n",
    "#seven years ago\"\"\".stripMargin('#')"
   ]
  },
  {
   "cell_type": "code",
   "execution_count": null,
   "id": "aea2906b-a19e-4a4e-85b5-235b875b7ede",
   "metadata": {},
   "outputs": [],
   "source": [
    "val s = \"\"\"This is known as a\n",
    "|\"multiline\" string\n",
    "|or 'heredoc' syntax.\"\"\". stripMargin.replaceAll(\"\\n\", \" \")"
   ]
  },
  {
   "cell_type": "code",
   "execution_count": null,
   "id": "767f250e-feaa-4974-afbd-e3c4a08d93f7",
   "metadata": {},
   "outputs": [],
   "source": [
    "\"hello\".toLowerCase"
   ]
  },
  {
   "cell_type": "code",
   "execution_count": null,
   "id": "05f7c5bd-3b87-4870-abc4-b168b1d2667b",
   "metadata": {},
   "outputs": [],
   "source": [
    "\"Ceci est une Phrase coupée moT par mot et convertie en minuscule\".split(\" \").map(_.toLowerCase)"
   ]
  },
  {
   "cell_type": "code",
   "execution_count": null,
   "id": "b48c3d8d-fbbc-4fa5-a018-6b7cada61eee",
   "metadata": {},
   "outputs": [],
   "source": [
    "// split permet de découper une chaine selon le delimiter\n",
    "val languages = \" Java, Python, C++, Scala, Php, Fortran, Julia \"\n",
    "languages.split(\",\")"
   ]
  },
  {
   "cell_type": "code",
   "execution_count": null,
   "id": "d23933ae-9a21-48de-aacd-14d489f164a1",
   "metadata": {},
   "outputs": [],
   "source": [
    "// trim supprime les chaines vides en debut et fin de ligne\n",
    "languages.split(\",\").map(_.trim)"
   ]
  },
  {
   "cell_type": "code",
   "execution_count": null,
   "id": "ea743222-5e6a-4bde-bdc1-764b2b87d474",
   "metadata": {},
   "outputs": [],
   "source": [
    "// Avec les expression régulières\n",
    "languages.split(\"\\\\s+\")"
   ]
  },
  {
   "cell_type": "code",
   "execution_count": null,
   "id": "0fe55fa3-b597-4109-9c79-7c90c898f19d",
   "metadata": {},
   "outputs": [],
   "source": [
    "//Filtrer la lettre et convertir en majuscule \n",
    "val upper = \"hello world\".filter(_ != 'l').map(_.toUpper)"
   ]
  },
  {
   "cell_type": "markdown",
   "id": "abdda95d-3a88-43f1-86ce-a3470d095442",
   "metadata": {},
   "source": [
    "### Trouver un pattern dans la chaine de caractère"
   ]
  },
  {
   "cell_type": "code",
   "execution_count": null,
   "id": "101ad424-3012-4022-9168-3fed0e289f82",
   "metadata": {},
   "outputs": [],
   "source": [
    "// Definir un pattern pour extraire les nombres\n",
    "val numPattern = \"[0-9]+\".r "
   ]
  },
  {
   "cell_type": "code",
   "execution_count": null,
   "id": "267a0a2e-fa68-4ff7-9f27-1f2b4156b1f7",
   "metadata": {},
   "outputs": [],
   "source": [
    "val address = \"123 Main Street Suite 101\""
   ]
  },
  {
   "cell_type": "markdown",
   "id": "501f009e-5ff4-4c29-b949-ae084c9c229a",
   "metadata": {},
   "source": [
    "On veut extraire le numero de rue de la ville dans une adresse"
   ]
  },
  {
   "cell_type": "code",
   "execution_count": null,
   "id": "54143924-eeb7-45ea-b61f-5a8b2c546d89",
   "metadata": {},
   "outputs": [],
   "source": [
    "val match1 = numPattern.findFirstIn(address)"
   ]
  },
  {
   "cell_type": "code",
   "execution_count": null,
   "id": "3eb2e943-ab0b-400c-bce5-763a083d6895",
   "metadata": {},
   "outputs": [],
   "source": [
    "val matches = numPattern.findAllIn(address)\n",
    "matches.foreach(println)"
   ]
  },
  {
   "cell_type": "code",
   "execution_count": null,
   "id": "39938d04-6bba-4401-b0ce-9fdf876e8eb4",
   "metadata": {},
   "outputs": [],
   "source": [
    "matches"
   ]
  },
  {
   "cell_type": "code",
   "execution_count": null,
   "id": "9d24e147-1f9c-4a31-ac9b-f425682ea535",
   "metadata": {},
   "outputs": [],
   "source": [
    "//ou bien de le convertir en Array\n",
    "val matches = numPattern.findAllIn(address).toArray"
   ]
  },
  {
   "cell_type": "code",
   "execution_count": null,
   "id": "bcbf5436-c54b-4e66-a422-e295e5c02de4",
   "metadata": {},
   "outputs": [],
   "source": [
    "val result = numPattern.findFirstIn(address).getOrElse(\"no match\")"
   ]
  },
  {
   "cell_type": "code",
   "execution_count": null,
   "id": "e84450d3-9765-4694-8660-3a0784e1a94a",
   "metadata": {},
   "outputs": [],
   "source": [
    "val address2 = \"Rue Carnot x Alpha\""
   ]
  },
  {
   "cell_type": "code",
   "execution_count": null,
   "id": "fec35935-7c97-44c5-a630-8dbf62499d71",
   "metadata": {},
   "outputs": [],
   "source": [
    "numPattern.findFirstIn(address2).getOrElse(\"no match\")"
   ]
  },
  {
   "cell_type": "code",
   "execution_count": null,
   "id": "9cbd0677-2585-4668-8808-025e82353000",
   "metadata": {},
   "outputs": [],
   "source": [
    "val address = \"123 Main Street\".replaceAll(\"[0-9]\", \"x\")"
   ]
  },
  {
   "cell_type": "code",
   "execution_count": null,
   "id": "9b055dfa-2825-42bb-b0dc-e1a5ee03d256",
   "metadata": {},
   "outputs": [],
   "source": [
    "\"123\".replaceFirst(\"[0-9]\", \"x\")"
   ]
  },
  {
   "cell_type": "code",
   "execution_count": null,
   "id": "c4cf8863-4a61-49f1-ac5f-6b8bff74bcab",
   "metadata": {},
   "outputs": [],
   "source": [
    "val regex = \"H\".r\n",
    "val result = regex.replaceFirstIn(\"Hello world\", \"P\")"
   ]
  },
  {
   "cell_type": "code",
   "execution_count": null,
   "id": "185417a6-2226-4585-971b-bf3de7dcc23c",
   "metadata": {},
   "outputs": [],
   "source": [
    "\"120\".toInt"
   ]
  },
  {
   "cell_type": "markdown",
   "id": "6a52e2cb-76c3-4819-b0be-6ba95ef78a81",
   "metadata": {},
   "source": [
    "### Collections"
   ]
  },
  {
   "cell_type": "markdown",
   "id": "2be4acdd-8239-4bd3-bb2b-c9d3aeaf2d19",
   "metadata": {},
   "source": [
    "Les collections dans Scala sont de deux types : \n",
    "* collections mutables : Elles peuvent être mise à jour ou étendue sur place. Ce qui veut dire que vous pouvez modifier, ajouter ou supprimer des éléments d'une collection en tant qu'effet secondaire.  Dans scala, nous les avons dans le package ``scala.collection.mutable``\n",
    "* collections immuables:  Elles, en revanche, ne changent jamais. Vous avez toujours des opérations qui simulent des ajouts, des suppressions ou des mises à jour, mais ces opérations renverront dans chaque cas une nouvelle collection et laisseront l'ancienne collection inchangée. Ils se trouvent dans le package ``scala.collection.immutable``"
   ]
  },
  {
   "cell_type": "markdown",
   "id": "a6926982-04c8-4ccd-b58f-d05415cd8ad7",
   "metadata": {},
   "source": [
    " package ``scala.collection``"
   ]
  },
  {
   "cell_type": "markdown",
   "id": "870a6f6f-7928-49c8-90f7-41ae8a641c91",
   "metadata": {},
   "source": [
    "![](images/collections-diagram.svg)"
   ]
  },
  {
   "cell_type": "markdown",
   "id": "05c258a9-8bc5-46eb-bb0e-850987fe194d",
   "metadata": {},
   "source": [
    "package ``scala.collection.immutable``"
   ]
  },
  {
   "cell_type": "markdown",
   "id": "6a1ec654-f777-47fe-b0c2-d31145625c68",
   "metadata": {},
   "source": [
    "![](images/collections-immutable-diagram.svg)"
   ]
  },
  {
   "cell_type": "markdown",
   "id": "339f5839-0df8-4f29-bfb1-50a5d54cceb6",
   "metadata": {},
   "source": [
    "package ``scala.collection.mutable``"
   ]
  },
  {
   "cell_type": "markdown",
   "id": "bcb40de2-1d7b-46da-9d14-7fadc25c5f90",
   "metadata": {},
   "source": [
    "![](images/collections-mutable-diagram.svg)"
   ]
  },
  {
   "cell_type": "markdown",
   "id": "5c58ce5e-6db8-45f7-afee-53dea27bf2bd",
   "metadata": {},
   "source": [
    "### List"
   ]
  },
  {
   "cell_type": "markdown",
   "id": "7cf92687-a276-4263-bd19-a6e8d77286a9",
   "metadata": {},
   "source": [
    "Une liste est une collection immuable, elle permet d'ordoner ses éléments et garder les duplicats. Les listes en Scala sont differents de celles conçues en Java (``ArrayList``). Selon le paradigme fonctionnelle, une liste est implémenté sous la forme d'une liste chainée avec les principales methodes suivantes :\n",
    "* **head**\n",
    "* **tail**\n",
    "* **isEmpty**"
   ]
  },
  {
   "cell_type": "markdown",
   "id": "dfece1ec-6640-4b54-9656-200d1756857c",
   "metadata": {},
   "source": [
    "#### creation d'une Liste en scala"
   ]
  },
  {
   "cell_type": "code",
   "execution_count": null,
   "id": "6046b8b4-3367-4449-a49d-184ce8cc2adb",
   "metadata": {},
   "outputs": [],
   "source": [
    "val list = 1 :: 2 :: 3 :: Nil"
   ]
  },
  {
   "cell_type": "code",
   "execution_count": null,
   "id": "98c3657b-4b48-41fb-9fa8-f2cfeaa7ac7f",
   "metadata": {},
   "outputs": [],
   "source": [
    "val list = List(1, 2, 3)"
   ]
  },
  {
   "cell_type": "code",
   "execution_count": null,
   "id": "01b272bd-1e0c-4d4b-a034-acad91d3e2ec",
   "metadata": {},
   "outputs": [],
   "source": [
    "val x = List(1, 2.0, 33D, 4000L)"
   ]
  },
  {
   "cell_type": "code",
   "execution_count": null,
   "id": "455705e3-0aa4-4b2c-bb97-f9348e7f1ed3",
   "metadata": {},
   "outputs": [],
   "source": [
    "val x = List[Number](1, 2.0, 33D, 4000L)"
   ]
  },
  {
   "cell_type": "code",
   "execution_count": null,
   "id": "a7ae0e2b-ac68-4115-8cb5-028b6c2daa2c",
   "metadata": {},
   "outputs": [],
   "source": [
    "val x = List.range(1, 10)"
   ]
  },
  {
   "cell_type": "code",
   "execution_count": null,
   "id": "53aeba99-09b8-4758-92f4-7f1dab8a6305",
   "metadata": {},
   "outputs": [],
   "source": [
    "val x = (1 to 10).toList"
   ]
  },
  {
   "cell_type": "code",
   "execution_count": null,
   "id": "5c209fa6-3aa3-4bfb-ac59-64805b00e4f0",
   "metadata": {},
   "outputs": [],
   "source": [
    "(1 to 10)"
   ]
  },
  {
   "cell_type": "code",
   "execution_count": null,
   "id": "b875f07f-5067-410e-851c-27895076d7f7",
   "metadata": {},
   "outputs": [],
   "source": [
    "val x = List.range(1, 10)"
   ]
  },
  {
   "cell_type": "code",
   "execution_count": null,
   "id": "f23c7d94-7765-4ff7-b927-48db6802d844",
   "metadata": {},
   "outputs": [],
   "source": [
    "val x = List.range(0, 10, 2)"
   ]
  },
  {
   "cell_type": "code",
   "execution_count": null,
   "id": "63d404cf-b5ea-48e7-b4af-63384296a561",
   "metadata": {},
   "outputs": [],
   "source": [
    "val x = List.fill(3)(\"foo\")"
   ]
  },
  {
   "cell_type": "code",
   "execution_count": null,
   "id": "6a1c3c41-396f-4d67-95ee-d3c1d9c5b4af",
   "metadata": {},
   "outputs": [],
   "source": [
    "val x = List.tabulate(5)(n => n * n)"
   ]
  },
  {
   "cell_type": "code",
   "execution_count": null,
   "id": "48f62435-c324-4a8c-9409-d2d76fedba12",
   "metadata": {},
   "outputs": [],
   "source": [
    "\"hello\".toList"
   ]
  },
  {
   "cell_type": "markdown",
   "id": "2a3fb8e7-bf8f-49d5-8543-f4cb150accc2",
   "metadata": {},
   "source": [
    "#### Ajouter et supprimer des elements dans une liste"
   ]
  },
  {
   "cell_type": "code",
   "execution_count": null,
   "id": "b7ad2ad7-02bb-4cce-b186-a0a263027dd3",
   "metadata": {},
   "outputs": [],
   "source": [
    "// ajout debut\n",
    "val x = List(1,2)\n",
    "val y = 0::x"
   ]
  },
  {
   "cell_type": "code",
   "execution_count": null,
   "id": "d5d8f2a9-b6c3-4e4d-bd64-880f2f1c8e63",
   "metadata": {},
   "outputs": [],
   "source": [
    "y"
   ]
  },
  {
   "cell_type": "code",
   "execution_count": null,
   "id": "432e9c71-3497-4c8c-8c8d-5153ef644616",
   "metadata": {},
   "outputs": [],
   "source": [
    "var x = List(1, 2)\n",
    "x = 0::x"
   ]
  },
  {
   "cell_type": "code",
   "execution_count": null,
   "id": "5e0e3299-8ce1-45da-bc8c-779b48758b23",
   "metadata": {},
   "outputs": [],
   "source": [
    "// ajout equivalent à append\n",
    "val x = List(1,2)\n",
    "val y = 0+:x"
   ]
  },
  {
   "cell_type": "code",
   "execution_count": null,
   "id": "1c8a5087-3021-4dfe-b5b0-fe3d34aa72ca",
   "metadata": {},
   "outputs": [],
   "source": [
    "val z = y:+3"
   ]
  },
  {
   "cell_type": "markdown",
   "id": "bded8e82-c733-45d9-bfab-f20ca0faeef8",
   "metadata": {},
   "source": [
    "Une liste est immuable, vous ne pouvez donc pas en supprimer des éléments, mais vous pouvez filtrer."
   ]
  },
  {
   "cell_type": "code",
   "execution_count": null,
   "id": "aea0d674-a6b3-4563-9179-24be4c19e1d8",
   "metadata": {},
   "outputs": [],
   "source": [
    "val l = (1 to 10).toList "
   ]
  },
  {
   "cell_type": "code",
   "execution_count": null,
   "id": "3f5e557d-6ac1-4217-acf2-8bbcac3cf026",
   "metadata": {},
   "outputs": [],
   "source": [
    "val newList = l.filter( _ > 4) // x => x > 4"
   ]
  },
  {
   "cell_type": "code",
   "execution_count": null,
   "id": "54923562-678f-448c-9013-c496c531df80",
   "metadata": {},
   "outputs": [],
   "source": [
    "val newList = l.filter( _ % 2 == 0)"
   ]
  },
  {
   "cell_type": "markdown",
   "id": "cb2fef12-d035-4dc4-b741-d411e52aaec1",
   "metadata": {},
   "source": [
    "#### Mutable List "
   ]
  },
  {
   "cell_type": "code",
   "execution_count": null,
   "id": "8f708560-c22c-401f-beb9-f92669eb6a55",
   "metadata": {},
   "outputs": [],
   "source": [
    "import scala.collection.mutable.ListBuffer\n",
    "var fruits = new ListBuffer[String]()\n",
    "// ajout\n",
    "fruits += \"Apple\"\n",
    "fruits += \"Apple\"\n",
    "fruits += \"Orange\""
   ]
  },
  {
   "cell_type": "code",
   "execution_count": null,
   "id": "968a56f5-a43b-40b1-a7f2-e669487f55bf",
   "metadata": {},
   "outputs": [],
   "source": [
    "// ajouter plusieurs elements\n",
    "fruits += (\"Strawberry\", \"Kiwi\", \"Pineapple\")"
   ]
  },
  {
   "cell_type": "markdown",
   "id": "2e78703f-8a70-476b-a217-df794b369b21",
   "metadata": {},
   "source": [
    "#### Affichage"
   ]
  },
  {
   "cell_type": "code",
   "execution_count": null,
   "id": "ab13bee9-666c-47e2-ab3c-9ace045b3555",
   "metadata": {},
   "outputs": [],
   "source": [
    "fruits.foreach(println)"
   ]
  },
  {
   "cell_type": "code",
   "execution_count": null,
   "id": "57b0f42e-11e5-4a56-b8d4-5e5d472f60fa",
   "metadata": {},
   "outputs": [],
   "source": [
    "fruits.remove(2)"
   ]
  },
  {
   "cell_type": "code",
   "execution_count": null,
   "id": "1875e6ca-e637-45a6-bd06-616f0ba613fd",
   "metadata": {},
   "outputs": [],
   "source": [
    "// supprimer un element\n",
    "fruits -= \"Apple\""
   ]
  },
  {
   "cell_type": "code",
   "execution_count": null,
   "id": "076c5255-da08-44ec-834d-ad242a81db83",
   "metadata": {},
   "outputs": [],
   "source": [
    "// supprimer plusieurs elements\n",
    "fruits -= (\"Banana\", \"Orange\")"
   ]
  },
  {
   "cell_type": "code",
   "execution_count": null,
   "id": "3fcc7acb-e1b6-403b-9291-bb0a7aa16256",
   "metadata": {},
   "outputs": [],
   "source": [
    "val fruitsList = fruits.toList"
   ]
  },
  {
   "cell_type": "markdown",
   "id": "9177e260-ec37-49ec-b65f-543c734e5afa",
   "metadata": {},
   "source": [
    "#### Concatenation"
   ]
  },
  {
   "cell_type": "code",
   "execution_count": null,
   "id": "3d04805c-160e-4042-b441-e0b95c7b5f82",
   "metadata": {},
   "outputs": [],
   "source": [
    "val a = List(1,2,3)\n",
    "val b = List(4,5,6)"
   ]
  },
  {
   "cell_type": "code",
   "execution_count": null,
   "id": "bfec5927-2ece-4818-919a-df5cf43c9344",
   "metadata": {},
   "outputs": [],
   "source": [
    "val c = a ++ b"
   ]
  },
  {
   "cell_type": "code",
   "execution_count": null,
   "id": "b11e5779-3d55-4ab0-87e1-868f57b2001c",
   "metadata": {},
   "outputs": [],
   "source": [
    "val c = a ::: b"
   ]
  },
  {
   "cell_type": "markdown",
   "id": "aa78d622-3a80-4513-91e8-b115e0408f04",
   "metadata": {},
   "source": [
    "#### Afficher les element d'une list avec take, takewhile"
   ]
  },
  {
   "cell_type": "code",
   "execution_count": null,
   "id": "7d0c0f26-17ea-49ee-8d59-d91fccb38a52",
   "metadata": {},
   "outputs": [],
   "source": [
    "val nums = (1 to 10).toList"
   ]
  },
  {
   "cell_type": "code",
   "execution_count": null,
   "id": "f0ad63e3-3a44-4ce0-a92d-9d4434d5ca25",
   "metadata": {},
   "outputs": [],
   "source": [
    "nums.take(1)"
   ]
  },
  {
   "cell_type": "code",
   "execution_count": null,
   "id": "7ad24762-03c1-4daa-9ed6-4382e294ddaa",
   "metadata": {},
   "outputs": [],
   "source": [
    "nums.take(3)"
   ]
  },
  {
   "cell_type": "code",
   "execution_count": null,
   "id": "45290f4c-4e7f-4f05-8ee8-560bdd8f5002",
   "metadata": {},
   "outputs": [],
   "source": [
    "nums.takeWhile(_ < 5)"
   ]
  },
  {
   "cell_type": "code",
   "execution_count": null,
   "id": "6239876d-c6e7-4664-b40a-cffe16f96d57",
   "metadata": {},
   "outputs": [],
   "source": [
    "val names = List(\"aly\",\"pape\", \"modou\",\"fatou\")"
   ]
  },
  {
   "cell_type": "code",
   "execution_count": null,
   "id": "dc504c09-b10d-42ff-bebf-74296af6f26a",
   "metadata": {},
   "outputs": [],
   "source": [
    "names.takeWhile(_.length <= 3)"
   ]
  },
  {
   "cell_type": "code",
   "execution_count": null,
   "id": "2f84cba4-8cab-47b5-9dcf-6835400da7a0",
   "metadata": {},
   "outputs": [],
   "source": [
    "names.takeWhile(_.length < 5)"
   ]
  },
  {
   "cell_type": "code",
   "execution_count": null,
   "id": "bae97ba1-9256-4866-89e4-3f1a612d09b3",
   "metadata": {},
   "outputs": [],
   "source": [
    "names.takeWhile(_.length < 6)"
   ]
  },
  {
   "cell_type": "markdown",
   "id": "724c953f-4988-40e0-b75d-a849a12b7d6d",
   "metadata": {},
   "source": [
    "#### Map, flatMap"
   ]
  },
  {
   "cell_type": "code",
   "execution_count": null,
   "id": "22434ff5-912e-438e-b7e2-62b0a494358e",
   "metadata": {},
   "outputs": [],
   "source": [
    "// carrée des nombre\n",
    "val maplist = List(2, 4, 5, -6) map ( x=> x * x)\n",
    "// maplist.map(x=> x * x)"
   ]
  },
  {
   "cell_type": "code",
   "execution_count": null,
   "id": "e38ce65a-25af-49d2-8383-47be7d93f65a",
   "metadata": {},
   "outputs": [],
   "source": [
    "val flatmap = List(List(2,4), List(6,8)) flatMap(x => x.map(x => x * x))"
   ]
  },
  {
   "cell_type": "markdown",
   "id": "37bc359c-2249-44f9-9d62-7c4315cc7b43",
   "metadata": {},
   "source": [
    "#### Map Reduce"
   ]
  },
  {
   "cell_type": "code",
   "execution_count": null,
   "id": "3a4d6290-69f1-4d15-a325-81b621d9ce8c",
   "metadata": {},
   "outputs": [],
   "source": [
    "val nombres = List(2, 8, 5, 6, 4, 7, 3)\n",
    "val res = nombres.reduce((x, y) => x max y)"
   ]
  },
  {
   "cell_type": "code",
   "execution_count": null,
   "id": "9376b3f3-4564-4a5e-9479-fbebc9d3507e",
   "metadata": {},
   "outputs": [],
   "source": [
    "// map reduce pour calculer la moyenne\n",
    " val pairs = nombres.map(x => (x,1))"
   ]
  },
  {
   "cell_type": "code",
   "execution_count": null,
   "id": "46f45bd6-2bdb-4f0f-86be-f057a391bd4c",
   "metadata": {},
   "outputs": [],
   "source": [
    "val tuple= (1, 2)"
   ]
  },
  {
   "cell_type": "code",
   "execution_count": null,
   "id": "c2305692-8922-488f-b1a1-f96812763c5b",
   "metadata": {},
   "outputs": [],
   "source": [
    "val res = pairs.reduce((a,b) => (a._1 + b._1, \n",
    "                                            a._2 + b._2 ) ) "
   ]
  },
  {
   "cell_type": "code",
   "execution_count": null,
   "id": "321ca346-1de0-4e2d-81cb-cdad04c5a8b7",
   "metadata": {},
   "outputs": [],
   "source": [
    "println(\"Moyenne = \"+ res._1/res._2.toFloat) "
   ]
  },
  {
   "cell_type": "code",
   "execution_count": null,
   "id": "bd882065-0f91-476e-abfa-ef15f0ef6371",
   "metadata": {},
   "outputs": [],
   "source": [
    "// Ecriture condensée\n",
    "val res = nombres.map(x => (x,1)).reduce((a,b) => ( a._1 + b._1, a._2 + b._2 ))"
   ]
  },
  {
   "cell_type": "code",
   "execution_count": null,
   "id": "ae21d198-2317-43ff-9cd0-28ad95a2936e",
   "metadata": {},
   "outputs": [],
   "source": [
    "println(\"Moyenne = \"+ res._1/res._2.toFloat) "
   ]
  },
  {
   "cell_type": "markdown",
   "id": "cf482c44-e004-4054-a9c7-257aaf58f2fc",
   "metadata": {},
   "source": [
    "### Array"
   ]
  },
  {
   "cell_type": "markdown",
   "id": "3acb9cc9-7c35-4f02-baea-aa58bcf471c7",
   "metadata": {},
   "source": [
    "Un Array en scala est un type mutable; l'odre et la duplication des élements est gardé. "
   ]
  },
  {
   "cell_type": "code",
   "execution_count": null,
   "id": "128d1895-f607-4555-942b-3e8fab24b534",
   "metadata": {},
   "outputs": [],
   "source": [
    "val numbers: Array[Int] = Array[Int](1, 2, 3, 4, 5, 1, 2, 3, 3, 4, 5)"
   ]
  },
  {
   "cell_type": "markdown",
   "id": "bf198aff-6d8c-4644-8e43-4ffd4a7719a3",
   "metadata": {},
   "source": [
    "#### Modifier un élément dans un Array"
   ]
  },
  {
   "cell_type": "code",
   "execution_count": null,
   "id": "f74b113e-3c1b-40ca-a95c-800053641780",
   "metadata": {},
   "outputs": [],
   "source": [
    "numbers(5)"
   ]
  },
  {
   "cell_type": "code",
   "execution_count": null,
   "id": "c1613975-ada3-41b2-ae97-d61255789e81",
   "metadata": {},
   "outputs": [],
   "source": [
    "numbers(5) = 6"
   ]
  },
  {
   "cell_type": "code",
   "execution_count": null,
   "id": "898b3753-31d5-4631-915c-39a70d98f947",
   "metadata": {},
   "outputs": [],
   "source": [
    "numbers(7) = 7"
   ]
  },
  {
   "cell_type": "code",
   "execution_count": null,
   "id": "9093fb69-a22b-4072-95cf-53942968358e",
   "metadata": {},
   "outputs": [],
   "source": [
    "numbers(7)"
   ]
  },
  {
   "cell_type": "markdown",
   "id": "7af684f5-ee77-450a-9ba1-57f86c0bb37e",
   "metadata": {},
   "source": [
    "#### Afficher les elements d'un Array"
   ]
  },
  {
   "cell_type": "code",
   "execution_count": null,
   "id": "9b2a4920-05f5-40db-b6e3-18ae983f35aa",
   "metadata": {},
   "outputs": [],
   "source": [
    "println(\"The full array is: \")\n",
    "for (elem <- numbers) {\n",
    "    print(\" \" + elem)\n",
    "}"
   ]
  },
  {
   "cell_type": "code",
   "execution_count": null,
   "id": "783f623f-9498-4f44-a3a9-61dfa320cb62",
   "metadata": {},
   "outputs": [],
   "source": [
    "numbers.foreach(println)"
   ]
  },
  {
   "cell_type": "markdown",
   "id": "16bec3e3-1b32-4211-8fbd-9c44bda208ec",
   "metadata": {},
   "source": [
    "#### Somme des élements d'un tableau"
   ]
  },
  {
   "cell_type": "code",
   "execution_count": null,
   "id": "b5fe3a84-7cde-4087-add5-b2439bd169c2",
   "metadata": {},
   "outputs": [],
   "source": [
    "var total = 0;\n",
    "for (i <- 0 to (numbers.length - 1)) {\n",
    "    total = total + numbers(i)\n",
    "}\n",
    "println(\"Sum: = \" + total)"
   ]
  },
  {
   "cell_type": "code",
   "execution_count": null,
   "id": "4650ee7c-b114-4376-a3fd-c60ba1de008b",
   "metadata": {},
   "outputs": [],
   "source": [
    "print(\"Sum := \" +numbers.sum)"
   ]
  },
  {
   "cell_type": "markdown",
   "id": "6d1fab5a-5ff1-4c6b-8030-a328262843b8",
   "metadata": {},
   "source": [
    "#### Minimum d'un Array"
   ]
  },
  {
   "cell_type": "code",
   "execution_count": null,
   "id": "fecfaa48-7527-4b77-88b6-32b8004b9c15",
   "metadata": {},
   "outputs": [],
   "source": [
    "var min = numbers(0)\n",
    "for (i <- 1 to (numbers.length - 1)) {\n",
    "    if (numbers(i) < min) min = numbers(i)\n",
    "}\n",
    "println(\"Min is: \" + min)"
   ]
  },
  {
   "cell_type": "code",
   "execution_count": null,
   "id": "2e012bb6-8ca9-41dd-a1bc-0fa49fefcfdc",
   "metadata": {},
   "outputs": [],
   "source": [
    "print(\"Min := \" +numbers.min)"
   ]
  },
  {
   "cell_type": "code",
   "execution_count": null,
   "id": "d09d7de8-916e-412e-bd4b-0a1db165237c",
   "metadata": {},
   "outputs": [],
   "source": [
    "print(\"Max := \"+numbers.max )"
   ]
  },
  {
   "cell_type": "markdown",
   "id": "f7a06303-29bd-4b8c-a7ea-99daf334c33f",
   "metadata": {},
   "source": [
    "#### ordonner les élements d'un tableau"
   ]
  },
  {
   "cell_type": "code",
   "execution_count": null,
   "id": "76498f05-0e0b-4a40-b89a-b87e4b060a7a",
   "metadata": {},
   "outputs": [],
   "source": [
    "import scala.util.Sorting._"
   ]
  },
  {
   "cell_type": "code",
   "execution_count": null,
   "id": "97d11180-e9d3-4965-868a-dfb1209b43ce",
   "metadata": {},
   "outputs": [],
   "source": [
    "quickSort(numbers)"
   ]
  },
  {
   "cell_type": "code",
   "execution_count": null,
   "id": "6155167f-a861-4815-b80d-94003c9eea73",
   "metadata": {},
   "outputs": [],
   "source": [
    "numbers"
   ]
  },
  {
   "cell_type": "markdown",
   "id": "50cef90d-4846-418b-9e27-1d86d438aeeb",
   "metadata": {},
   "source": [
    "#### Tableau Multi-dimensionel"
   ]
  },
  {
   "cell_type": "code",
   "execution_count": null,
   "id": "97e459d4-9a75-4454-aa6c-8d64189ab09d",
   "metadata": {},
   "outputs": [],
   "source": [
    "import Array._"
   ]
  },
  {
   "cell_type": "code",
   "execution_count": null,
   "id": "67ed0471-741a-49a8-ad43-47b67df068f9",
   "metadata": {},
   "outputs": [],
   "source": [
    "\n",
    "var myMatrix = ofDim[Int](4, 4)\n",
    "// build a matrix\n",
    "for (i <- 0 to 3) {\n",
    "    for (j <- 0 to 3) {\n",
    "    myMatrix(i)(j) = j*i\n",
    "    }\n",
    "}\n",
    "\n",
    "println();\n",
    "\n",
    "// Affichage\n",
    "for (i <- 0 to 3) {\n",
    "    for (j <- 0 to 3) {\n",
    "    print(\" \" + myMatrix(i)(j))\n",
    "    }\n",
    "println();\n",
    "}"
   ]
  },
  {
   "cell_type": "markdown",
   "id": "5c5fd7c7-c7dd-4641-af65-f404cfaf4456",
   "metadata": {},
   "source": [
    "### ArrayBuffer : un Array de taille modifiable"
   ]
  },
  {
   "cell_type": "code",
   "execution_count": null,
   "id": "4ffe8936-da9e-452d-bf87-61ee9da1583d",
   "metadata": {},
   "outputs": [],
   "source": [
    "import scala.collection.mutable.ArrayBuffer"
   ]
  },
  {
   "cell_type": "code",
   "execution_count": null,
   "id": "435ad9b8-37ea-4af3-934f-f1b2823265f2",
   "metadata": {},
   "outputs": [],
   "source": [
    "var prenoms = ArrayBuffer[String](\"Abdou\")"
   ]
  },
  {
   "cell_type": "markdown",
   "id": "684f61f7-0006-4bbd-83d2-8dad2baca3c6",
   "metadata": {},
   "source": [
    "#### Ajouter d'élement dans ArrayBuffer"
   ]
  },
  {
   "cell_type": "code",
   "execution_count": null,
   "id": "0a24333d-2aa3-4b1d-adf4-1ad86eb643d7",
   "metadata": {},
   "outputs": [],
   "source": [
    "prenoms += \"Demba\"\n",
    "prenoms += \"Albert\""
   ]
  },
  {
   "cell_type": "code",
   "execution_count": null,
   "id": "456e8eba-3905-4c09-bb62-061365188303",
   "metadata": {},
   "outputs": [],
   "source": [
    "prenoms+= (\"Pape\", \"Fall\")"
   ]
  },
  {
   "cell_type": "code",
   "execution_count": null,
   "id": "cb0bada6-e7ef-493a-8540-7dede71b2183",
   "metadata": {},
   "outputs": [],
   "source": [
    "prenoms++= Seq(\"Modou\", \"Ibrahim\")"
   ]
  },
  {
   "cell_type": "markdown",
   "id": "17af3436-ed1d-451e-8c5b-ad42f933f60e",
   "metadata": {},
   "source": [
    "#### Suppression d'élément dans ArrayBuffer"
   ]
  },
  {
   "cell_type": "code",
   "execution_count": null,
   "id": "b2c59791-e6af-44bd-9f4d-d0d51d3df354",
   "metadata": {},
   "outputs": [],
   "source": [
    "prenoms-=\"Albert\""
   ]
  },
  {
   "cell_type": "code",
   "execution_count": null,
   "id": "4e120c92-8b83-4824-8e4d-d9cd2ed03e11",
   "metadata": {},
   "outputs": [],
   "source": [
    "prenoms-=(\"Pape\", \"Fall\")"
   ]
  },
  {
   "cell_type": "code",
   "execution_count": null,
   "id": "ce2a2654-8ce3-4e2f-9912-bc61bccc95b8",
   "metadata": {},
   "outputs": [],
   "source": [
    "prenoms.remove(2)"
   ]
  },
  {
   "cell_type": "markdown",
   "id": "387e5049-33e9-48d4-80d3-20cfd6ce9aeb",
   "metadata": {},
   "source": [
    "### Map"
   ]
  },
  {
   "cell_type": "markdown",
   "id": "581a3e02-248a-4ca6-976e-ac3adbecd5dd",
   "metadata": {},
   "source": [
    "Un Map est une structure clé/valeur qui correspond à dictionnaire"
   ]
  },
  {
   "cell_type": "code",
   "execution_count": null,
   "id": "e0341de8-03a4-43c2-a15b-8b1951f146c7",
   "metadata": {},
   "outputs": [],
   "source": [
    "val states = Map(\"SN\" -> \"Senegal\", \"US\" -> \"United-States\", \"FR\" -> \"France\")"
   ]
  },
  {
   "cell_type": "markdown",
   "id": "67327bdb-9427-4558-8da5-72f23e533a8c",
   "metadata": {},
   "source": [
    "Par défaut, un Map immuable est créé"
   ]
  },
  {
   "cell_type": "markdown",
   "id": "d0f04433-897a-4ee9-b077-1addd4a16c07",
   "metadata": {},
   "source": [
    "mutable Map"
   ]
  },
  {
   "cell_type": "code",
   "execution_count": null,
   "id": "fc8acd56-63ba-49a3-8126-0387488d420d",
   "metadata": {},
   "outputs": [],
   "source": [
    "//import collection.mutable.Map"
   ]
  },
  {
   "cell_type": "code",
   "execution_count": null,
   "id": "c13ab850-f9cf-419b-a349-51738072eb85",
   "metadata": {},
   "outputs": [],
   "source": [
    "var states = collection.mutable.Map(\"SN\" -> \"Senegal\", \"US\" -> \"United-States\", \"FR\" -> \"France\")"
   ]
  },
  {
   "cell_type": "code",
   "execution_count": null,
   "id": "a47cd3d6-cdc1-4851-b86f-58e0b22f97fe",
   "metadata": {},
   "outputs": [],
   "source": [
    "//Ajout dans mutable Map\n",
    "states += (\"MO\" -> \"Maroc\")"
   ]
  },
  {
   "cell_type": "code",
   "execution_count": null,
   "id": "96d56e92-fe58-4f8f-9c68-16b1e97fbb76",
   "metadata": {},
   "outputs": [],
   "source": [
    "states += (\"ML\" -> \"Mali\", \"CI\" -> \"Cote d'Ivoire\")"
   ]
  },
  {
   "cell_type": "code",
   "execution_count": null,
   "id": "7a6afb48-c1b5-440e-9914-fd2e6c3e903c",
   "metadata": {
    "scrolled": true
   },
   "outputs": [],
   "source": [
    "for((k,v) <- states) println(s\"$k, $v\")"
   ]
  },
  {
   "cell_type": "code",
   "execution_count": null,
   "id": "bee9d2a7-791e-4291-8d4b-2fa390d7231f",
   "metadata": {},
   "outputs": [],
   "source": [
    "states -= \"FR\""
   ]
  },
  {
   "cell_type": "code",
   "execution_count": null,
   "id": "c88571b4-b8b2-47ad-b56d-f62efbff82e3",
   "metadata": {},
   "outputs": [],
   "source": [
    "states -= (\"ML\", \"US\")"
   ]
  },
  {
   "cell_type": "code",
   "execution_count": null,
   "id": "ccbe63c2-e2df-4afc-9c84-0e1f7f3b6410",
   "metadata": {},
   "outputs": [],
   "source": [
    "states(\"SN\") = \"Pays de la Téranga\""
   ]
  },
  {
   "cell_type": "code",
   "execution_count": null,
   "id": "ae388c9d-8180-424c-9e32-32ed97c52489",
   "metadata": {},
   "outputs": [],
   "source": [
    "for((k,v) <- states) println(s\"$k, $v\")"
   ]
  },
  {
   "cell_type": "code",
   "execution_count": null,
   "id": "49f42eff-a82e-4473-8586-21770a81deb8",
   "metadata": {},
   "outputs": [],
   "source": [
    "states.put(\"ML\", \"Mali\")"
   ]
  },
  {
   "cell_type": "code",
   "execution_count": null,
   "id": "f17fbb5b-2e93-4d87-ae2b-33358e6bb932",
   "metadata": {},
   "outputs": [],
   "source": [
    "states.retain((k,v) => k == \"SN\")"
   ]
  },
  {
   "cell_type": "code",
   "execution_count": null,
   "id": "e85a9fae-d9ba-47d6-b678-40672872cfa8",
   "metadata": {},
   "outputs": [],
   "source": [
    "states.remove(\"SN\")"
   ]
  },
  {
   "cell_type": "code",
   "execution_count": null,
   "id": "da12850c-cf33-4446-9bda-766967dca6bb",
   "metadata": {},
   "outputs": [],
   "source": [
    "val s = states.getOrElse(\"SN\", \"No such state\")"
   ]
  },
  {
   "cell_type": "code",
   "execution_count": null,
   "id": "ee203702-fc58-412d-8f12-c261208ff8b1",
   "metadata": {},
   "outputs": [],
   "source": [
    "import scala.collection.SortedMap"
   ]
  },
  {
   "cell_type": "code",
   "execution_count": null,
   "id": "2a8d6987-00bb-43db-8c61-4ed5c27365ca",
   "metadata": {},
   "outputs": [],
   "source": [
    "val notes = SortedMap(\"Aly\" -> 15, \"Pape\" -> 12, \"Aicha\" -> 17, \"Fatou\" -> 9, \"Ibra\" -> 7)"
   ]
  },
  {
   "cell_type": "markdown",
   "id": "6aaebb0e-8713-48c6-88ec-aec1059a69d5",
   "metadata": {},
   "source": [
    "**LinkedHashMap** et **ListMap** pour garder l'ordre d'insertion des éléments"
   ]
  },
  {
   "cell_type": "markdown",
   "id": "ad729014-490e-4568-bb1c-4cccf4a98afb",
   "metadata": {},
   "source": [
    "Lire la Documentation pour plus de détails "
   ]
  },
  {
   "cell_type": "markdown",
   "id": "8602a68e-b1e2-4372-a71b-22531c2d9ea3",
   "metadata": {},
   "source": [
    "### Set"
   ]
  },
  {
   "cell_type": "markdown",
   "id": "f7361884-3ef3-4246-bf33-76abd2f2c706",
   "metadata": {},
   "source": [
    "Immutable Set"
   ]
  },
  {
   "cell_type": "code",
   "execution_count": null,
   "id": "34aafe02-a53b-4188-be87-21ff4d811c2f",
   "metadata": {},
   "outputs": [],
   "source": [
    "val s1 = Set( 1, 2, 3, 4, 5, 1, 2, 3, 4, 5)"
   ]
  },
  {
   "cell_type": "code",
   "execution_count": null,
   "id": "401dc0eb-8546-41f7-8cb3-bf3b6ace1348",
   "metadata": {},
   "outputs": [],
   "source": [
    "val s2 = s1 + 5"
   ]
  },
  {
   "cell_type": "code",
   "execution_count": null,
   "id": "87c38346-b028-4ae2-8235-352dc61cce4c",
   "metadata": {},
   "outputs": [],
   "source": [
    "val s3 = s2 + (8, 7)"
   ]
  },
  {
   "cell_type": "code",
   "execution_count": null,
   "id": "e82a796a-91f5-4bf4-8036-35243a20292d",
   "metadata": {},
   "outputs": [],
   "source": [
    "val s4 = s3 ++ List(9, 4)"
   ]
  },
  {
   "cell_type": "code",
   "execution_count": null,
   "id": "ecc96e62-b053-4302-b0e6-f75aca25978f",
   "metadata": {},
   "outputs": [],
   "source": [
    "var set = Set(1, 2, 3)"
   ]
  },
  {
   "cell_type": "code",
   "execution_count": null,
   "id": "6f20b53f-fb87-452a-8ebc-447f48f48b7c",
   "metadata": {},
   "outputs": [],
   "source": [
    "set += 4"
   ]
  },
  {
   "cell_type": "markdown",
   "id": "d22bf1a2-5fff-4707-96d1-7d37093f4280",
   "metadata": {},
   "source": [
    "Mutable Set"
   ]
  },
  {
   "cell_type": "code",
   "execution_count": null,
   "id": "9724961a-1eb8-47ec-b754-fda84429d112",
   "metadata": {},
   "outputs": [],
   "source": [
    "var set = scala.collection.mutable.Set[Int]()"
   ]
  },
  {
   "cell_type": "markdown",
   "id": "dd8036e0-ea90-447a-bed8-b568fb0d4046",
   "metadata": {},
   "source": [
    "Ajout"
   ]
  },
  {
   "cell_type": "code",
   "execution_count": null,
   "id": "9bbfd98c-e66d-4e94-a35c-dd88931fbb15",
   "metadata": {},
   "outputs": [],
   "source": [
    "set += 1"
   ]
  },
  {
   "cell_type": "code",
   "execution_count": null,
   "id": "a76c658f-37f2-4096-a109-80380b7e9ca4",
   "metadata": {},
   "outputs": [],
   "source": [
    "set += (2, 3)"
   ]
  },
  {
   "cell_type": "code",
   "execution_count": null,
   "id": "fe5b1c97-e2f8-4204-87f4-2515ba73e53e",
   "metadata": {},
   "outputs": [],
   "source": [
    "set ++= Vector(4, 5)"
   ]
  },
  {
   "cell_type": "code",
   "execution_count": null,
   "id": "40146c41-3ade-4867-8edd-45eccdcf0712",
   "metadata": {},
   "outputs": [],
   "source": [
    "set.add(6)"
   ]
  },
  {
   "cell_type": "code",
   "execution_count": null,
   "id": "30ad487c-23b7-4dc2-ac5a-466280504878",
   "metadata": {},
   "outputs": [],
   "source": [
    "set.add(5)"
   ]
  },
  {
   "cell_type": "code",
   "execution_count": null,
   "id": "ca78f2b1-2bc0-477c-ae50-e3107a06f456",
   "metadata": {},
   "outputs": [],
   "source": [
    "set.contains(5)"
   ]
  },
  {
   "cell_type": "code",
   "execution_count": null,
   "id": "0213c9d1-2c70-43db-81d2-4de117867fb3",
   "metadata": {},
   "outputs": [],
   "source": [
    "set -= 1"
   ]
  },
  {
   "cell_type": "code",
   "execution_count": null,
   "id": "29213a58-b325-43a6-87ad-760785ffd679",
   "metadata": {},
   "outputs": [],
   "source": [
    "set -= (2, 3)"
   ]
  },
  {
   "cell_type": "code",
   "execution_count": null,
   "id": "4ffb9ed9-d1a2-4646-b108-f940a4ef9fc9",
   "metadata": {},
   "outputs": [],
   "source": [
    "set --= Array(4,5)"
   ]
  },
  {
   "cell_type": "code",
   "execution_count": null,
   "id": "fd113b41-f15d-454a-acf6-8b5fb34deb7f",
   "metadata": {},
   "outputs": [],
   "source": [
    "var set = scala.collection.mutable.Set(1, 2, 3, 4, 5)"
   ]
  },
  {
   "cell_type": "code",
   "execution_count": null,
   "id": "5975a647-5c99-431f-bfa8-eeed67ffe1b7",
   "metadata": {},
   "outputs": [],
   "source": [
    "set.retain(_ > 2)"
   ]
  },
  {
   "cell_type": "markdown",
   "id": "51910fb8-316c-44f7-b6b7-dec29f0e35a0",
   "metadata": {},
   "source": [
    "SortedSet"
   ]
  },
  {
   "cell_type": "code",
   "execution_count": null,
   "id": "ddcc8da3-920f-4af9-82d8-e20f61307dc0",
   "metadata": {},
   "outputs": [],
   "source": [
    "class Person (var name: String)"
   ]
  },
  {
   "cell_type": "code",
   "execution_count": null,
   "id": "f1486d38-8d79-424e-a3c8-6a84ef3d8b16",
   "metadata": {},
   "outputs": [],
   "source": [
    "import scala.collection.SortedSet"
   ]
  },
  {
   "cell_type": "code",
   "execution_count": null,
   "id": "e011822b-16e7-4f48-8434-aca7e2e064c7",
   "metadata": {},
   "outputs": [],
   "source": [
    "val aliou = new Person(\"Aliou\")\n",
    "val cheikh = new Person(\"Cheikh\")\n",
    "val marc = new Person(\"Marc\")\n",
    "val you = new Person(\"You\")"
   ]
  },
  {
   "cell_type": "markdown",
   "id": "9f91bebd-bd32-4bbf-bb4b-67d4639ee8a9",
   "metadata": {},
   "source": [
    "**Error de compilation :** la liste n'est pas ordonnée"
   ]
  },
  {
   "cell_type": "code",
   "execution_count": null,
   "id": "25c30737-8c08-4f3d-93aa-ee70184f1300",
   "metadata": {},
   "outputs": [],
   "source": [
    "val s = SortedSet(aliou, marc, you, cheikh)"
   ]
  },
  {
   "cell_type": "code",
   "execution_count": null,
   "id": "c9d172e1-e590-4146-b04f-2684938a2d02",
   "metadata": {},
   "outputs": [],
   "source": [
    "class Person (var name: String) extends Ordered [Person]\n",
    "{\n",
    "    override def toString = name\n",
    "    // return 0 if the same, negative if this < that, positive if this > that\n",
    "    def compare (that: Person) = {\n",
    "        if (this.name == that.name)\n",
    "            0\n",
    "        else if (this.name > that.name)\n",
    "            1\n",
    "        else\n",
    "            -1\n",
    "    }\n",
    "}"
   ]
  },
  {
   "cell_type": "code",
   "execution_count": null,
   "id": "4479ed90-2e89-4ed3-999f-f84bef905eeb",
   "metadata": {},
   "outputs": [],
   "source": [
    "val aliou = new Person(\"Aliou\")\n",
    "val cheikh = new Person(\"Cheikh\")\n",
    "val marc = new Person(\"Marc\")\n",
    "val you = new Person(\"You\")"
   ]
  },
  {
   "cell_type": "code",
   "execution_count": null,
   "id": "ba8d4e5c-855b-4746-8954-c9f691edd5a1",
   "metadata": {
    "scrolled": true
   },
   "outputs": [],
   "source": [
    "val ss = SortedSet(marc, you, cheikh, aliou)"
   ]
  },
  {
   "cell_type": "markdown",
   "id": "7ee33958-c5e3-4516-b9b7-d24f6bd8d8c6",
   "metadata": {},
   "source": [
    "**Queue**, permet dcreer une pile en scala  \n",
    "Lire la Documentation pour plus de détails "
   ]
  },
  {
   "cell_type": "markdown",
   "id": "2ccee7f8-5a2e-422b-9a93-324de9a01699",
   "metadata": {},
   "source": [
    "### Pattern matching"
   ]
  },
  {
   "cell_type": "code",
   "execution_count": null,
   "id": "5df4893e-080a-42e5-9e00-fd0742cefb1c",
   "metadata": {},
   "outputs": [],
   "source": [
    "import scala.io.StdIn.readLine"
   ]
  },
  {
   "cell_type": "code",
   "execution_count": null,
   "id": "c7f31d54-e4ac-4783-819c-03b4b2e68648",
   "metadata": {},
   "outputs": [],
   "source": [
    "print(\"Entrer un entier: \")\n",
    "//val input = readLine() //A tester dans scala REPL"
   ]
  },
  {
   "cell_type": "code",
   "execution_count": null,
   "id": "a429738b-1a73-4d49-bcb0-bad84fdeaa77",
   "metadata": {},
   "outputs": [],
   "source": [
    "val strx = \"9\"\n",
    "val x = strx.toInt"
   ]
  },
  {
   "cell_type": "code",
   "execution_count": null,
   "id": "7d464d11-4a1b-4b7a-84c4-a11b27ae8090",
   "metadata": {},
   "outputs": [],
   "source": [
    "\n",
    "x match {\n",
    "    case 1 => \"un\"\n",
    "    case 2 => \"deux\"\n",
    "    case _ => \"superieur à deux\"\n",
    "}"
   ]
  },
  {
   "cell_type": "code",
   "execution_count": null,
   "id": "723e3f09-06b3-4376-86fc-1c0d2e757eb8",
   "metadata": {},
   "outputs": [],
   "source": [
    "x match {\n",
    "case 1 | 3 | 5 | 7 | 9 => println(\"Impaire\")\n",
    "case 2 | 4 | 6 | 8 | 10 => println(\"Paire\")\n",
    "}"
   ]
  },
  {
   "cell_type": "code",
   "execution_count": null,
   "id": "b25b990a-05e9-46ba-be5c-4766f1d9a912",
   "metadata": {},
   "outputs": [],
   "source": [
    "def generalSize(x: Any) = x match {\n",
    "    case s: String => s.length\n",
    "    case m: Map[_, _] => m.size\n",
    "    case _ => -1\n",
    "}"
   ]
  },
  {
   "cell_type": "code",
   "execution_count": null,
   "id": "b9219515-ca45-4e21-a94a-ef837ceb1630",
   "metadata": {},
   "outputs": [],
   "source": [
    "generalSize(\"abc\")"
   ]
  },
  {
   "cell_type": "code",
   "execution_count": null,
   "id": "47461a12-cdde-4cda-a060-6af6274d5472",
   "metadata": {},
   "outputs": [],
   "source": [
    "generalSize(Map(1 -> 'a', 2 -> 'b'))"
   ]
  },
  {
   "cell_type": "code",
   "execution_count": null,
   "id": "6e7ca468-b847-444b-af97-fb5239ad4da3",
   "metadata": {},
   "outputs": [],
   "source": [
    "trait Animal\n",
    "    case class Chien(name: String) extends Animal\n",
    "    case class Chat(name: String) extends Animal\n",
    "    case object Perroquet extends Animal"
   ]
  },
  {
   "cell_type": "code",
   "execution_count": null,
   "id": "03636ca2-f04b-4d1a-8631-fd870d0b22f1",
   "metadata": {},
   "outputs": [],
   "source": [
    "def determineType(x: Animal): String = x match {\n",
    "    case Chien(moniker) => \"Je suis un chien, je m'appelle \" + moniker\n",
    "    case _:Chat => \"Je suis un chat\"\n",
    "    case Perroquet => \"Je suis un perroquet\"\n",
    "    case _ => \"Inconnu\"\n",
    "}"
   ]
  },
  {
   "cell_type": "code",
   "execution_count": null,
   "id": "5a584340-f813-41a5-ba27-c517c0b2c8dd",
   "metadata": {},
   "outputs": [],
   "source": [
    "println(determineType(new Chien(\"Rocky\")))"
   ]
  },
  {
   "cell_type": "code",
   "execution_count": null,
   "id": "e0965543-4532-4aaf-afe6-712fc0f1e2b7",
   "metadata": {},
   "outputs": [],
   "source": [
    "println(determineType(new Chat(\"Milou\")))"
   ]
  },
  {
   "cell_type": "code",
   "execution_count": null,
   "id": "45dc1a45-5700-4726-b858-ae3ca38b857e",
   "metadata": {},
   "outputs": [],
   "source": [
    "println(determineType(Perroquet))"
   ]
  },
  {
   "cell_type": "code",
   "execution_count": null,
   "id": "1fb08956-1cc7-434d-946e-ed8b1e3c136a",
   "metadata": {},
   "outputs": [],
   "source": [
    "// somme des nombres paires d'une liste\n",
    "\n",
    "def sommePaires(inputList: List[Int]): Int = inputList match {\n",
    "   case Nil => 0 // liste vide\n",
    "   case courant :: restant if courant % 2 == 0 => courant + sommePaires(restant)\n",
    "   case _ :: restant => sommePaires(restant)\n",
    " }"
   ]
  },
  {
   "cell_type": "code",
   "execution_count": null,
   "id": "ceb20e0d-9c01-4f07-8781-c0f61b4037f9",
   "metadata": {},
   "outputs": [],
   "source": [
    "val liste = List(1, 2, 3, 4, 5, 6, 7, 8, 9)\n",
    "sommePaires(liste)"
   ]
  },
  {
   "cell_type": "markdown",
   "id": "ebf406a2-3297-47b3-b7e6-c7af1b00f7d0",
   "metadata": {},
   "source": [
    "Lire la Documentation pour plus de détails :  \n",
    "https://docs.scala-lang.org/"
   ]
  },
  {
   "cell_type": "code",
   "execution_count": null,
   "id": "161c09ce-9ee5-41d2-be29-2ca9978d58b3",
   "metadata": {},
   "outputs": [],
   "source": []
  }
 ],
 "metadata": {
  "kernelspec": {
   "display_name": "Scala",
   "language": "scala",
   "name": "scala"
  },
  "language_info": {
   "codemirror_mode": "text/x-scala",
   "file_extension": ".sc",
   "mimetype": "text/x-scala",
   "name": "scala",
   "nbconvert_exporter": "script",
   "version": "2.13.3"
  }
 },
 "nbformat": 4,
 "nbformat_minor": 5
}
